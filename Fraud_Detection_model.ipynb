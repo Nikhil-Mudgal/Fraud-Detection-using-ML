{
  "nbformat": 4,
  "nbformat_minor": 0,
  "metadata": {
    "kernelspec": {
      "display_name": "Python 3",
      "language": "python",
      "name": "python3"
    },
    "language_info": {
      "codemirror_mode": {
        "name": "ipython",
        "version": 3
      },
      "file_extension": ".py",
      "mimetype": "text/x-python",
      "name": "python",
      "nbconvert_exporter": "python",
      "pygments_lexer": "ipython3",
      "version": "3.8.5"
    },
    "colab": {
      "name": "Nikhil_Mudgal_INSAID_Internship.ipynb",
      "provenance": []
    }
  },
  "cells": [
    {
      "cell_type": "markdown",
      "metadata": {
        "id": "d0Ux9sMrYU2G"
      },
      "source": [
        "# Machine Learning Model for Fraud Detection\n",
        "Based on the paper by Kathrin Melcher and Rosaria Silipo in the Aug,2019 the intutition of machine learning for fraud detection came out. Machine learning is a very powerful tool for a variety of applications where it be making regression models to predict the power consumption of a particular household or understanding the photovoltaic potential in a particular area.\n",
        "The problem currently under observation is Fraud Detection.\n",
        "I have approached the problem in a systematic way:-\n",
        "## Data-Preparation\n",
        "The section is linked with importing the data and presenting some of the key features that can be observed just by looking at the data. Data visualization plays a very important role in this section. \n",
        "As mentioned in the tasks i have also provided check on missing vaues , the significance of outliers in the current dataset and resolved multicollinearity problem but have also shown the importance of the variables for this particular problem.\n",
        "## Data- Preprocessing\n",
        "Since the data is a highly unbalanced . I have undersampled the data and converted it to a simplified dataframe with the same features and behaviour as that of the original dataframe.\n",
        "## ML Models\n",
        "The training of the dataset has been done in 4 models in total. However the logistic regression also aided us in checking the significance of the independent variables.\n",
        "The best f1-score has been obtained using RandomForestClassifier (0.99) with ANN model (0.92) being a close second.\n",
        "In classification models the f1-score of the model is of much more importance than the accuracy thus it has been given the priority.Confusion matrix plot has also been added to give a visual representation of evaluated models.\n",
        "## Output from the evaluation of the dataset\n",
        "This is the section where we answer the question of what has the dataset analysis presented us.\n",
        "\n"
      ]
    },
    {
      "cell_type": "markdown",
      "metadata": {
        "id": "R5THDlFFYU2H"
      },
      "source": [
        "## Table of Contents\n",
        "- [1- Data-Preparation](#1)\n",
        "    - [1.1 - Checking for NaN on the Dataset](#1-1)\n",
        "    - [1.2 - Using z_score to check the outliers](#1-2)\n",
        "    - [1.3 - Multi Collinearity](#1-3)\n",
        "    - [1.4 - Making a Correlation Heatmap](#1-4)\n",
        "    - [1.5 - Calculating the VIF (Variable Inflation Factors) and removing extra Depedent Variables](#1-5)\n",
        "- [Data Preprocessing](#2)\n",
        "    - [2.3 - Creating datasets for normal and fraudulent transactions ](#2-1)\n",
        "    - [UnderSampling the data](#2-2)\n",
        "    - [2.4 - Initialize the Parameters](#2-3)\n",
        "- [ML Model](#3)\n",
        "    - [Logistic Regression](#3-1)\n",
        "    - [Feature Importance](#3-2)\n",
        "    - [Using the refined dataset](#3-3)\n",
        "    - [ANN model for classification using undersampling](#3-4)\n",
        "    - [Random Forest Classifier](#3-5)\n",
        "- [4 - Output from the evaluation of the dataset](#4)"
      ]
    },
    {
      "cell_type": "markdown",
      "metadata": {
        "id": "I0oxhx7xYU2H"
      },
      "source": [
        "<a name='1'></a>\n",
        "## Data-Preparation"
      ]
    },
    {
      "cell_type": "code",
      "metadata": {
        "id": "9Yfy5jYzYU2I"
      },
      "source": [
        "import pandas as pd\n",
        "import matplotlib\n",
        "from matplotlib import pyplot as plt\n",
        "import numpy as np\n",
        "import seaborn as sns\n",
        "%matplotlib inline\n",
        "plt.rcParams['figure.figsize'] = [8,8 ]\n",
        "plt.rcParams['figure.dpi'] = 100 # 200 e.g. is really fine, but slower"
      ],
      "execution_count": null,
      "outputs": []
    },
    {
      "cell_type": "code",
      "metadata": {
        "id": "25DPE8OtYU2I"
      },
      "source": [
        "import warnings\n",
        "warnings.filterwarnings('ignore')"
      ],
      "execution_count": null,
      "outputs": []
    },
    {
      "cell_type": "code",
      "metadata": {
        "id": "4XH9SYwSYU2I"
      },
      "source": [
        "data = pd.read_csv(\"D:\\Internship/Fraud.csv\",sep=\",\")\n"
      ],
      "execution_count": null,
      "outputs": []
    },
    {
      "cell_type": "code",
      "metadata": {
        "id": "M2zfQvdCYU2I",
        "outputId": "5085c578-6a2d-472c-a07f-fbec73fd90d7"
      },
      "source": [
        "counter = data.value_counts(data[\"isFraud\"],sort = True)\n",
        "plt.pie(counter,labels = [\"Legit\",\"Fraud\"],shadow = True,explode =[0,0.5])\n",
        "plt.title(\"Fraud Frequency Distribution\")\n",
        "plt.show()"
      ],
      "execution_count": null,
      "outputs": [
        {
          "output_type": "display_data",
          "data": {
            "image/png": "[encoded data removed]",
            "text/plain": [
              "<Figure size 800x800 with 1 Axes>"
            ]
          },
          "metadata": {
            "tags": []
          }
        }
      ]
    },
    {
      "cell_type": "code",
      "metadata": {
        "id": "yaipw16vYU2J",
        "outputId": "fa1be849-007b-409e-baaa-d0d2250d7055"
      },
      "source": [
        "print(data.value_counts(data[\"isFlaggedFraud\"],sort = True))\n",
        "print(data.value_counts(data[\"isFraud\"],sort = True))"
      ],
      "execution_count": null,
      "outputs": [
        {
          "output_type": "stream",
          "text": [
            "isFlaggedFraud\n",
            "0    6362604\n",
            "1         16\n",
            "dtype: int64\n",
            "isFraud\n",
            "0    6354407\n",
            "1       8213\n",
            "dtype: int64\n"
          ],
          "name": "stdout"
        }
      ]
    },
    {
      "cell_type": "markdown",
      "metadata": {
        "id": "t2YeeLhUYU2J"
      },
      "source": [
        "Only 16 out of 8213 Frauds had been red-flagged"
      ]
    },
    {
      "cell_type": "code",
      "metadata": {
        "id": "SmQc_65XYU2J",
        "outputId": "6a569f3a-745f-4135-cab3-c4b397d3a815"
      },
      "source": [
        "data.head"
      ],
      "execution_count": null,
      "outputs": [
        {
          "output_type": "execute_result",
          "data": {
            "text/plain": [
              "<bound method NDFrame.head of          step      type      amount     nameOrig  oldbalanceOrg  \\\n",
              "0           1   PAYMENT     9839.64  C1231006815      170136.00   \n",
              "1           1   PAYMENT     1864.28  C1666544295       21249.00   \n",
              "2           1  TRANSFER      181.00  C1305486145         181.00   \n",
              "3           1  CASH_OUT      181.00   C840083671         181.00   \n",
              "4           1   PAYMENT    11668.14  C2048537720       41554.00   \n",
              "...       ...       ...         ...          ...            ...   \n",
              "6362615   743  CASH_OUT   339682.13   C786484425      339682.13   \n",
              "6362616   743  TRANSFER  6311409.28  C1529008245     6311409.28   \n",
              "6362617   743  CASH_OUT  6311409.28  C1162922333     6311409.28   \n",
              "6362618   743  TRANSFER   850002.52  C1685995037      850002.52   \n",
              "6362619   743  CASH_OUT   850002.52  C1280323807      850002.52   \n",
              "\n",
              "         newbalanceOrig     nameDest  oldbalanceDest  newbalanceDest  isFraud  \\\n",
              "0             160296.36  M1979787155            0.00            0.00        0   \n",
              "1              19384.72  M2044282225            0.00            0.00        0   \n",
              "2                  0.00   C553264065            0.00            0.00        1   \n",
              "3                  0.00    C38997010        21182.00            0.00        1   \n",
              "4              29885.86  M1230701703            0.00            0.00        0   \n",
              "...                 ...          ...             ...             ...      ...   \n",
              "6362615            0.00   C776919290            0.00       339682.13        1   \n",
              "6362616            0.00  C1881841831            0.00            0.00        1   \n",
              "6362617            0.00  C1365125890        68488.84      6379898.11        1   \n",
              "6362618            0.00  C2080388513            0.00            0.00        1   \n",
              "6362619            0.00   C873221189      6510099.11      7360101.63        1   \n",
              "\n",
              "         isFlaggedFraud  \n",
              "0                     0  \n",
              "1                     0  \n",
              "2                     0  \n",
              "3                     0  \n",
              "4                     0  \n",
              "...                 ...  \n",
              "6362615               0  \n",
              "6362616               0  \n",
              "6362617               0  \n",
              "6362618               0  \n",
              "6362619               0  \n",
              "\n",
              "[6362620 rows x 11 columns]>"
            ]
          },
          "metadata": {
            "tags": []
          },
          "execution_count": 5
        }
      ]
    },
    {
      "cell_type": "code",
      "metadata": {
        "id": "HNPnSyyqYU2K",
        "outputId": "eb4433dc-cd5c-4246-88c0-a14741d42b73"
      },
      "source": [
        "list(data.columns)"
      ],
      "execution_count": null,
      "outputs": [
        {
          "output_type": "execute_result",
          "data": {
            "text/plain": [
              "['step',\n",
              " 'type',\n",
              " 'amount',\n",
              " 'nameOrig',\n",
              " 'oldbalanceOrg',\n",
              " 'newbalanceOrig',\n",
              " 'nameDest',\n",
              " 'oldbalanceDest',\n",
              " 'newbalanceDest',\n",
              " 'isFraud',\n",
              " 'isFlaggedFraud']"
            ]
          },
          "metadata": {
            "tags": []
          },
          "execution_count": 6
        }
      ]
    },
    {
      "cell_type": "code",
      "metadata": {
        "scrolled": true,
        "id": "-yRd1PDQYU2K",
        "outputId": "5d54db5a-d5e0-47bc-cb08-5b6e548eac00"
      },
      "source": [
        "data.describe()"
      ],
      "execution_count": null,
      "outputs": [
        {
          "output_type": "execute_result",
          "data": {
            "text/html": [
              "<div>\n",
              "<style scoped>\n",
              "    .dataframe tbody tr th:only-of-type {\n",
              "        vertical-align: middle;\n",
              "    }\n",
              "\n",
              "    .dataframe tbody tr th {\n",
              "        vertical-align: top;\n",
              "    }\n",
              "\n",
              "    .dataframe thead th {\n",
              "        text-align: right;\n",
              "    }\n",
              "</style>\n",
              "<table border=\"1\" class=\"dataframe\">\n",
              "  <thead>\n",
              "    <tr style=\"text-align: right;\">\n",
              "      <th></th>\n",
              "      <th>step</th>\n",
              "      <th>amount</th>\n",
              "      <th>oldbalanceOrg</th>\n",
              "      <th>newbalanceOrig</th>\n",
              "      <th>oldbalanceDest</th>\n",
              "      <th>newbalanceDest</th>\n",
              "      <th>isFraud</th>\n",
              "      <th>isFlaggedFraud</th>\n",
              "    </tr>\n",
              "  </thead>\n",
              "  <tbody>\n",
              "    <tr>\n",
              "      <th>count</th>\n",
              "      <td>6.362620e+06</td>\n",
              "      <td>6.362620e+06</td>\n",
              "      <td>6.362620e+06</td>\n",
              "      <td>6.362620e+06</td>\n",
              "      <td>6.362620e+06</td>\n",
              "      <td>6.362620e+06</td>\n",
              "      <td>6.362620e+06</td>\n",
              "      <td>6.362620e+06</td>\n",
              "    </tr>\n",
              "    <tr>\n",
              "      <th>mean</th>\n",
              "      <td>2.433972e+02</td>\n",
              "      <td>1.798619e+05</td>\n",
              "      <td>8.338831e+05</td>\n",
              "      <td>8.551137e+05</td>\n",
              "      <td>1.100702e+06</td>\n",
              "      <td>1.224996e+06</td>\n",
              "      <td>1.290820e-03</td>\n",
              "      <td>2.514687e-06</td>\n",
              "    </tr>\n",
              "    <tr>\n",
              "      <th>std</th>\n",
              "      <td>1.423320e+02</td>\n",
              "      <td>6.038582e+05</td>\n",
              "      <td>2.888243e+06</td>\n",
              "      <td>2.924049e+06</td>\n",
              "      <td>3.399180e+06</td>\n",
              "      <td>3.674129e+06</td>\n",
              "      <td>3.590480e-02</td>\n",
              "      <td>1.585775e-03</td>\n",
              "    </tr>\n",
              "    <tr>\n",
              "      <th>min</th>\n",
              "      <td>1.000000e+00</td>\n",
              "      <td>0.000000e+00</td>\n",
              "      <td>0.000000e+00</td>\n",
              "      <td>0.000000e+00</td>\n",
              "      <td>0.000000e+00</td>\n",
              "      <td>0.000000e+00</td>\n",
              "      <td>0.000000e+00</td>\n",
              "      <td>0.000000e+00</td>\n",
              "    </tr>\n",
              "    <tr>\n",
              "      <th>25%</th>\n",
              "      <td>1.560000e+02</td>\n",
              "      <td>1.338957e+04</td>\n",
              "      <td>0.000000e+00</td>\n",
              "      <td>0.000000e+00</td>\n",
              "      <td>0.000000e+00</td>\n",
              "      <td>0.000000e+00</td>\n",
              "      <td>0.000000e+00</td>\n",
              "      <td>0.000000e+00</td>\n",
              "    </tr>\n",
              "    <tr>\n",
              "      <th>50%</th>\n",
              "      <td>2.390000e+02</td>\n",
              "      <td>7.487194e+04</td>\n",
              "      <td>1.420800e+04</td>\n",
              "      <td>0.000000e+00</td>\n",
              "      <td>1.327057e+05</td>\n",
              "      <td>2.146614e+05</td>\n",
              "      <td>0.000000e+00</td>\n",
              "      <td>0.000000e+00</td>\n",
              "    </tr>\n",
              "    <tr>\n",
              "      <th>75%</th>\n",
              "      <td>3.350000e+02</td>\n",
              "      <td>2.087215e+05</td>\n",
              "      <td>1.073152e+05</td>\n",
              "      <td>1.442584e+05</td>\n",
              "      <td>9.430367e+05</td>\n",
              "      <td>1.111909e+06</td>\n",
              "      <td>0.000000e+00</td>\n",
              "      <td>0.000000e+00</td>\n",
              "    </tr>\n",
              "    <tr>\n",
              "      <th>max</th>\n",
              "      <td>7.430000e+02</td>\n",
              "      <td>9.244552e+07</td>\n",
              "      <td>5.958504e+07</td>\n",
              "      <td>4.958504e+07</td>\n",
              "      <td>3.560159e+08</td>\n",
              "      <td>3.561793e+08</td>\n",
              "      <td>1.000000e+00</td>\n",
              "      <td>1.000000e+00</td>\n",
              "    </tr>\n",
              "  </tbody>\n",
              "</table>\n",
              "</div>"
            ],
            "text/plain": [
              "               step        amount  oldbalanceOrg  newbalanceOrig  \\\n",
              "count  6.362620e+06  6.362620e+06   6.362620e+06    6.362620e+06   \n",
              "mean   2.433972e+02  1.798619e+05   8.338831e+05    8.551137e+05   \n",
              "std    1.423320e+02  6.038582e+05   2.888243e+06    2.924049e+06   \n",
              "min    1.000000e+00  0.000000e+00   0.000000e+00    0.000000e+00   \n",
              "25%    1.560000e+02  1.338957e+04   0.000000e+00    0.000000e+00   \n",
              "50%    2.390000e+02  7.487194e+04   1.420800e+04    0.000000e+00   \n",
              "75%    3.350000e+02  2.087215e+05   1.073152e+05    1.442584e+05   \n",
              "max    7.430000e+02  9.244552e+07   5.958504e+07    4.958504e+07   \n",
              "\n",
              "       oldbalanceDest  newbalanceDest       isFraud  isFlaggedFraud  \n",
              "count    6.362620e+06    6.362620e+06  6.362620e+06    6.362620e+06  \n",
              "mean     1.100702e+06    1.224996e+06  1.290820e-03    2.514687e-06  \n",
              "std      3.399180e+06    3.674129e+06  3.590480e-02    1.585775e-03  \n",
              "min      0.000000e+00    0.000000e+00  0.000000e+00    0.000000e+00  \n",
              "25%      0.000000e+00    0.000000e+00  0.000000e+00    0.000000e+00  \n",
              "50%      1.327057e+05    2.146614e+05  0.000000e+00    0.000000e+00  \n",
              "75%      9.430367e+05    1.111909e+06  0.000000e+00    0.000000e+00  \n",
              "max      3.560159e+08    3.561793e+08  1.000000e+00    1.000000e+00  "
            ]
          },
          "metadata": {
            "tags": []
          },
          "execution_count": 7
        }
      ]
    },
    {
      "cell_type": "code",
      "metadata": {
        "id": "flDxVFu4YU2K",
        "outputId": "96b7bd6f-1e41-41a8-efaf-ebb4d21881fb"
      },
      "source": [
        "data['isFraud'].value_counts()\n",
        "data.groupby('isFraud').mean()\n"
      ],
      "execution_count": null,
      "outputs": [
        {
          "output_type": "execute_result",
          "data": {
            "text/html": [
              "<div>\n",
              "<style scoped>\n",
              "    .dataframe tbody tr th:only-of-type {\n",
              "        vertical-align: middle;\n",
              "    }\n",
              "\n",
              "    .dataframe tbody tr th {\n",
              "        vertical-align: top;\n",
              "    }\n",
              "\n",
              "    .dataframe thead th {\n",
              "        text-align: right;\n",
              "    }\n",
              "</style>\n",
              "<table border=\"1\" class=\"dataframe\">\n",
              "  <thead>\n",
              "    <tr style=\"text-align: right;\">\n",
              "      <th></th>\n",
              "      <th>step</th>\n",
              "      <th>amount</th>\n",
              "      <th>oldbalanceOrg</th>\n",
              "      <th>newbalanceOrig</th>\n",
              "      <th>oldbalanceDest</th>\n",
              "      <th>newbalanceDest</th>\n",
              "      <th>isFlaggedFraud</th>\n",
              "    </tr>\n",
              "    <tr>\n",
              "      <th>isFraud</th>\n",
              "      <th></th>\n",
              "      <th></th>\n",
              "      <th></th>\n",
              "      <th></th>\n",
              "      <th></th>\n",
              "      <th></th>\n",
              "      <th></th>\n",
              "    </tr>\n",
              "  </thead>\n",
              "  <tbody>\n",
              "    <tr>\n",
              "      <th>0</th>\n",
              "      <td>243.235663</td>\n",
              "      <td>1.781970e+05</td>\n",
              "      <td>8.328287e+05</td>\n",
              "      <td>855970.228109</td>\n",
              "      <td>1.101421e+06</td>\n",
              "      <td>1.224926e+06</td>\n",
              "      <td>0.000000</td>\n",
              "    </tr>\n",
              "    <tr>\n",
              "      <th>1</th>\n",
              "      <td>368.413856</td>\n",
              "      <td>1.467967e+06</td>\n",
              "      <td>1.649668e+06</td>\n",
              "      <td>192392.631836</td>\n",
              "      <td>5.442496e+05</td>\n",
              "      <td>1.279708e+06</td>\n",
              "      <td>0.001948</td>\n",
              "    </tr>\n",
              "  </tbody>\n",
              "</table>\n",
              "</div>"
            ],
            "text/plain": [
              "               step        amount  oldbalanceOrg  newbalanceOrig  \\\n",
              "isFraud                                                            \n",
              "0        243.235663  1.781970e+05   8.328287e+05   855970.228109   \n",
              "1        368.413856  1.467967e+06   1.649668e+06   192392.631836   \n",
              "\n",
              "         oldbalanceDest  newbalanceDest  isFlaggedFraud  \n",
              "isFraud                                                  \n",
              "0          1.101421e+06    1.224926e+06        0.000000  \n",
              "1          5.442496e+05    1.279708e+06        0.001948  "
            ]
          },
          "metadata": {
            "tags": []
          },
          "execution_count": 8
        }
      ]
    },
    {
      "cell_type": "markdown",
      "metadata": {
        "id": "5582yiknYU2L"
      },
      "source": [
        "An important observation here is that the mean of amount for fradualant transaction is much higher than that of the mean for normal/legitimate transactions. "
      ]
    },
    {
      "cell_type": "code",
      "metadata": {
        "id": "AXMnMvMMYU2L",
        "outputId": "9b20b338-738b-46d6-ee34-0400810b996a"
      },
      "source": [
        "# distribution of Time\n",
        "time = data['step'].values\n",
        "sns.distplot(time)"
      ],
      "execution_count": null,
      "outputs": [
        {
          "output_type": "execute_result",
          "data": {
            "text/plain": [
              "<AxesSubplot:ylabel='Density'>"
            ]
          },
          "metadata": {
            "tags": []
          },
          "execution_count": 9
        },
        {
          "output_type": "display_data",
          "data": {
            "image/png": "[encoded data removed]",
            "text/plain": [
              "<Figure size 800x800 with 1 Axes>"
            ]
          },
          "metadata": {
            "tags": [],
            "needs_background": "light"
          }
        }
      ]
    },
    {
      "cell_type": "markdown",
      "metadata": {
        "id": "GSxLcwncYU2L"
      },
      "source": [
        "<a name='1-1'></a>\n",
        "## Checking for NaN on the Dataset "
      ]
    },
    {
      "cell_type": "code",
      "metadata": {
        "id": "ZACx3eJXYU2L",
        "outputId": "8c3a7a60-039c-4f67-81ed-8e407ed63b24"
      },
      "source": [
        "#Checking for null values\n",
        "data.isnull().values.sum() "
      ],
      "execution_count": null,
      "outputs": [
        {
          "output_type": "execute_result",
          "data": {
            "text/plain": [
              "0"
            ]
          },
          "metadata": {
            "tags": []
          },
          "execution_count": 97
        }
      ]
    },
    {
      "cell_type": "markdown",
      "metadata": {
        "id": "5yqlqSWeYU2M"
      },
      "source": [
        " The data thus doesn't comprise of any NaN values"
      ]
    },
    {
      "cell_type": "markdown",
      "metadata": {
        "id": "2KaW3oLeYU2M"
      },
      "source": [
        "<a name='1-2'></a>\n",
        "## Using z_score to check the outliers\n"
      ]
    },
    {
      "cell_type": "code",
      "metadata": {
        "id": "MKa1-7U3YU2M"
      },
      "source": [
        "amount = data[\"amount\"]\n",
        "outliers= []\n",
        "def detect_outliers(data):\n",
        "    \n",
        "    threshold=3\n",
        "    mean = np.mean(data)\n",
        "    std =np.std(data)\n",
        "    \n",
        "    \n",
        "    for i in data:\n",
        "        z_score= (i - mean)/std \n",
        "        if np.abs(z_score) > threshold:\n",
        "            outliers.append(i)\n",
        "    return outliers\n"
      ],
      "execution_count": null,
      "outputs": []
    },
    {
      "cell_type": "code",
      "metadata": {
        "id": "KIvjPrWaYU2M",
        "outputId": "f9f8816c-eed8-45a8-f731-74c0293289f9"
      },
      "source": [
        "outlier_pt=detect_outliers(amount)\n",
        "outlier_pt\n"
      ],
      "execution_count": null,
      "outputs": [
        {
          "output_type": "execute_result",
          "data": {
            "text/plain": [
              "[2421578.09,\n",
              " 2545478.01,\n",
              " 2061082.82,\n",
              " 3776389.09,\n",
              " 2258388.15,\n",
              " 2223005.62,\n",
              " 2107293.71,\n",
              " 2317408.88,\n",
              " 2604219.11,\n",
              " 2441078.3,\n",
              " 2032275.62,\n",
              " 2474181.78,\n",
              " 2837270.65,\n",
              " 10000000.0,\n",
              " 10000000.0,\n",
              " 2930418.44,\n",
              " 2930418.44,\n",
              " 2025330.83,\n",
              " 2062692.94,\n",
              " 2576294.8,\n",
              " 2102252.96,\n",
              " 2222097.28,\n",
              " 2511647.23,\n",
              " 2241254.39,\n",
              " 2011670.91,\n",
              " 2940764.72,\n",
              " 2943845.35,\n",
              " 2861134.92,\n",
              " 2153550.39,\n",
              " 5460002.91,\n",
              " 5460002.91,\n",
              " 2316902.39,\n",
              " 2301415.25,\n",
              " 2283519.94,\n",
              " 2245813.81,\n",
              " 2271227.47,\n",
              " 2063647.78,\n",
              " 2552176.18,\n",
              " 2848328.52,\n",
              " 2234288.78,\n",
              " 2702697.15,\n",
              " 2022478.14,\n",
              " 2059918.28,\n",
              " 2206784.53,\n",
              " 2026545.3,\n",
              " 3236850.76,\n",
              " 2794982.53,\n",
              " 3457807.35,\n",
              " 2767908.66,\n",
              " 2614699.02,\n",
              " 2014771.88,\n",
              " 2107356.28,\n",
              " 2195051.02,\n",
              " 2241986.78,\n",
              " 2015246.93,\n",
              " 2304548.56,\n",
              " 2628265.07,\n",
              " 2117027.99,\n",
              " 2352703.57,\n",
              " 2416072.81,\n",
              " 2370301.7,\n",
              " 2068925.43,\n",
              " 2783998.4,\n",
              " 5677662.29,\n",
              " 2612615.69,\n",
              " 2604737.7,\n",
              " 3007043.04,\n",
              " 2325148.88,\n",
              " 3903432.11,\n",
              " 2419330.48,\n",
              " 2106899.77,\n",
              " 2158290.89,\n",
              " 2420979.43,\n",
              " 2597158.62,\n",
              " 2047252.95,\n",
              " 2029109.94,\n",
              " 2300391.28,\n",
              " 2145086.77,\n",
              " 2045705.04,\n",
              " 2029209.07,\n",
              " 3226604.31,\n",
              " 2288736.8,\n",
              " 2256694.97,\n",
              " 2887748.9,\n",
              " 2957475.12,\n",
              " 3380634.34,\n",
              " 2630740.88,\n",
              " 2140316.07,\n",
              " 2999828.31,\n",
              " 2047122.53,\n",
              " 2246018.57,\n",
              " 2701250.65,\n",
              " 3778558.18,\n",
              " 3226610.92,\n",
              " 3052190.88,\n",
              " 2573238.46,\n",
              " 2423847.73,\n",
              " 2446562.05,\n",
              " 2075434.73,\n",
              " 2050255.88,\n",
              " 2026027.14,\n",
              " 2102405.82,\n",
              " 2078426.24,\n",
              " 3932449.48,\n",
              " 2609250.7,\n",
              " 2077829.53,\n",
              " 2503436.11,\n",
              " 2922545.82,\n",
              " 2133505.41,\n",
              " 2662054.47,\n",
              " 2284539.84,\n",
              " 2193255.28,\n",
              " 3046406.72,\n",
              " 2713839.59,\n",
              " 3593281.81,\n",
              " 3231928.32,\n",
              " 2700496.21,\n",
              " 2777230.22,\n",
              " 3392262.69,\n",
              " 2113597.68,\n",
              " 2179274.8,\n",
              " 2001378.66,\n",
              " 2452427.82,\n",
              " 2459952.97,\n",
              " 2108050.16,\n",
              " 3989315.7,\n",
              " 2299990.49,\n",
              " 2157820.54,\n",
              " 2418831.26,\n",
              " 2017469.57,\n",
              " 2324636.12,\n",
              " 3498660.78,\n",
              " 2256769.88,\n",
              " 2919787.84,\n",
              " 2537071.55,\n",
              " 2148537.38,\n",
              " 4199621.54,\n",
              " 2411727.13,\n",
              " 2486178.89,\n",
              " 2757923.53,\n",
              " 2098681.75,\n",
              " 2553307.07,\n",
              " 2122141.21,\n",
              " 3520997.05,\n",
              " 2871902.35,\n",
              " 2193044.98,\n",
              " 2097231.32,\n",
              " 2931734.97,\n",
              " 2696529.49,\n",
              " 2123519.67,\n",
              " 1991912.75,\n",
              " 2307120.44,\n",
              " 2461849.47,\n",
              " 2393663.58,\n",
              " 2724355.38,\n",
              " 2068058.62,\n",
              " 2145582.77,\n",
              " 2765065.56,\n",
              " 2716664.51,\n",
              " 2081862.72,\n",
              " 3025340.38,\n",
              " 2552535.38,\n",
              " 2665719.31,\n",
              " 2951204.73,\n",
              " 2166126.02,\n",
              " 2434407.95,\n",
              " 2273495.58,\n",
              " 2407437.39,\n",
              " 2137832.78,\n",
              " 2554999.36,\n",
              " 2023483.48,\n",
              " 2802396.2,\n",
              " 2296496.48,\n",
              " 3199066.14,\n",
              " 2286206.31,\n",
              " 2094272.15,\n",
              " 2921830.63,\n",
              " 2293034.65,\n",
              " 2957955.03,\n",
              " 2094070.92,\n",
              " 2694220.17,\n",
              " 3736812.13,\n",
              " 2883744.13,\n",
              " 3437775.31,\n",
              " 2907767.45,\n",
              " 3185949.68,\n",
              " 2305997.57,\n",
              " 2597191.59,\n",
              " 3018712.42,\n",
              " 2739793.97,\n",
              " 2668731.17,\n",
              " 3995031.22,\n",
              " 3845925.14,\n",
              " 2438454.92,\n",
              " 2695789.29,\n",
              " 2336137.79,\n",
              " 2772425.23,\n",
              " 3167250.68,\n",
              " 2157296.1,\n",
              " 3081934.29,\n",
              " 2453916.73,\n",
              " 2511355.55,\n",
              " 2695994.63,\n",
              " 2676341.0,\n",
              " 2376440.06,\n",
              " 2043117.09,\n",
              " 2239934.12,\n",
              " 2957330.91,\n",
              " 2619264.99,\n",
              " 3362855.94,\n",
              " 2208411.11,\n",
              " 3685404.11,\n",
              " 2007222.22,\n",
              " 3076524.59,\n",
              " 2064471.44,\n",
              " 3049719.53,\n",
              " 2045462.07,\n",
              " 2730299.9,\n",
              " 3041668.97,\n",
              " 2069903.63,\n",
              " 2432242.96,\n",
              " 2836970.59,\n",
              " 3373864.78,\n",
              " 2528205.18,\n",
              " 2057598.99,\n",
              " 2407016.73,\n",
              " 2010119.07,\n",
              " 2034253.33,\n",
              " 2008218.5,\n",
              " 2216323.82,\n",
              " 2805806.23,\n",
              " 3303635.04,\n",
              " 1995628.85,\n",
              " 2056558.68,\n",
              " 2420877.65,\n",
              " 2416547.94,\n",
              " 3580817.2,\n",
              " 3213768.55,\n",
              " 2192264.29,\n",
              " 2271850.59,\n",
              " 2254744.84,\n",
              " 2251322.58,\n",
              " 3367917.95,\n",
              " 2773346.18,\n",
              " 4201421.61,\n",
              " 2966490.66,\n",
              " 3330241.4,\n",
              " 2755930.62,\n",
              " 2910856.68,\n",
              " 2199855.87,\n",
              " 2513434.29,\n",
              " 2607326.07,\n",
              " 3243431.02,\n",
              " 2546073.24,\n",
              " 2970200.28,\n",
              " 1994191.72,\n",
              " 2517735.2,\n",
              " 1994535.2,\n",
              " 3174368.89,\n",
              " 2239716.84,\n",
              " 2240750.98,\n",
              " 2419246.24,\n",
              " 3416041.41,\n",
              " 2051137.22,\n",
              " 2391664.56,\n",
              " 2490659.57,\n",
              " 2542189.14,\n",
              " 2371230.93,\n",
              " 2526048.49,\n",
              " 2037646.27,\n",
              " 2881739.96,\n",
              " 2370571.48,\n",
              " 2538124.24,\n",
              " 2236892.45,\n",
              " 2397487.79,\n",
              " 3025443.37,\n",
              " 2369650.25,\n",
              " 4626419.46,\n",
              " 2688316.47,\n",
              " 2252281.55,\n",
              " 2859190.23,\n",
              " 2087683.04,\n",
              " 2264087.03,\n",
              " 2231063.15,\n",
              " 2522430.4,\n",
              " 2386148.95,\n",
              " 2637647.17,\n",
              " 2856256.46,\n",
              " 2181889.84,\n",
              " 2200742.18,\n",
              " 3535782.58,\n",
              " 2174268.05,\n",
              " 3191860.8,\n",
              " 3178399.27,\n",
              " 4764218.76,\n",
              " 2379053.98,\n",
              " 2379999.99,\n",
              " 2049884.79,\n",
              " 2386505.21,\n",
              " 2223638.84,\n",
              " 2748498.94,\n",
              " 3311473.97,\n",
              " 3523735.42,\n",
              " 2418355.25,\n",
              " 2228395.49,\n",
              " 2145217.79,\n",
              " 2099464.15,\n",
              " 2912418.56,\n",
              " 2383285.01,\n",
              " 2346326.78,\n",
              " 2193894.91,\n",
              " 2869830.35,\n",
              " 2257755.38,\n",
              " 2114760.8,\n",
              " 2357834.95,\n",
              " 2264477.35,\n",
              " 2182117.85,\n",
              " 2420920.87,\n",
              " 2780924.21,\n",
              " 2378457.14,\n",
              " 2357592.03,\n",
              " 2050705.18,\n",
              " 2858417.43,\n",
              " 2514219.76,\n",
              " 2603798.51,\n",
              " 2165308.31,\n",
              " 4203370.0,\n",
              " 2428577.21,\n",
              " 3804148.28,\n",
              " 2539898.07,\n",
              " 2539898.07,\n",
              " 3411789.9,\n",
              " 2004717.89,\n",
              " 3504119.07,\n",
              " 3140704.8,\n",
              " 2671904.79,\n",
              " 4247849.58,\n",
              " 2154139.54,\n",
              " 3022469.2,\n",
              " 2482839.36,\n",
              " 2785915.89,\n",
              " 3441220.15,\n",
              " 2519635.81,\n",
              " 2024322.26,\n",
              " 3424071.04,\n",
              " 2210764.88,\n",
              " 2795294.99,\n",
              " 2041228.37,\n",
              " 2455731.4,\n",
              " 2346892.79,\n",
              " 2768959.75,\n",
              " 3105173.04,\n",
              " 2601124.17,\n",
              " 3372924.82,\n",
              " 2076919.51,\n",
              " 2046231.52,\n",
              " 2799207.47,\n",
              " 2411111.84,\n",
              " 2797401.21,\n",
              " 2393274.09,\n",
              " 2266765.39,\n",
              " 2034634.77,\n",
              " 3576450.24,\n",
              " 2362491.73,\n",
              " 2461219.34,\n",
              " 2190083.23,\n",
              " 2049447.53,\n",
              " 2185267.17,\n",
              " 3253810.16,\n",
              " 2161985.74,\n",
              " 2271646.94,\n",
              " 2601634.21,\n",
              " 2018174.91,\n",
              " 2753283.93,\n",
              " 2321311.01,\n",
              " 3459573.67,\n",
              " 2470318.94,\n",
              " 2472785.79,\n",
              " 2736119.3,\n",
              " 3902982.04,\n",
              " 2269973.15,\n",
              " 2606087.8,\n",
              " 2241070.55,\n",
              " 2124460.33,\n",
              " 2343080.2,\n",
              " 2129148.56,\n",
              " 2733045.17,\n",
              " 2313415.16,\n",
              " 3180803.57,\n",
              " 2652783.95,\n",
              " 2561259.32,\n",
              " 2192612.45,\n",
              " 2094085.38,\n",
              " 2108381.54,\n",
              " 2019977.68,\n",
              " 2238828.65,\n",
              " 2781310.15,\n",
              " 3163633.27,\n",
              " 3666040.44,\n",
              " 3626675.89,\n",
              " 2759983.78,\n",
              " 2541760.76,\n",
              " 3145390.43,\n",
              " 2045295.01,\n",
              " 2189519.17,\n",
              " 2042574.11,\n",
              " 2231000.23,\n",
              " 3595110.65,\n",
              " 2603202.06,\n",
              " 2703653.43,\n",
              " 4435382.87,\n",
              " 2134234.21,\n",
              " 2724825.18,\n",
              " 2409657.2,\n",
              " 2266785.03,\n",
              " 2490191.49,\n",
              " 2052057.69,\n",
              " 3649110.85,\n",
              " 3097753.73,\n",
              " 2563579.57,\n",
              " 2062054.56,\n",
              " 2462908.56,\n",
              " 2584648.63,\n",
              " 2112857.19,\n",
              " 3356211.54,\n",
              " 2452662.13,\n",
              " 2170985.53,\n",
              " 2841855.18,\n",
              " 4239019.21,\n",
              " 2098656.65,\n",
              " 2778983.25,\n",
              " 2153968.71,\n",
              " 3005233.34,\n",
              " 2084363.35,\n",
              " 3412920.99,\n",
              " 2177354.29,\n",
              " 2208704.27,\n",
              " 2514580.84,\n",
              " 2605319.56,\n",
              " 2024442.26,\n",
              " 2957973.26,\n",
              " 2987855.88,\n",
              " 2341972.99,\n",
              " 3003424.66,\n",
              " 4023472.73,\n",
              " 2018511.54,\n",
              " 2740784.64,\n",
              " 3088884.59,\n",
              " 3008003.17,\n",
              " 2066330.18,\n",
              " 2637935.02,\n",
              " 2482740.91,\n",
              " 2836120.7,\n",
              " 2751310.64,\n",
              " 2093400.44,\n",
              " 2378501.68,\n",
              " 2535919.17,\n",
              " 2356426.81,\n",
              " 2282745.47,\n",
              " 2072763.94,\n",
              " 2517583.87,\n",
              " 2833941.15,\n",
              " 2176012.65,\n",
              " 2248861.53,\n",
              " 3396050.28,\n",
              " 3875565.56,\n",
              " 2301744.85,\n",
              " 2950395.44,\n",
              " 2600184.87,\n",
              " 2891087.75,\n",
              " 2032976.02,\n",
              " 2135212.18,\n",
              " 2705397.2,\n",
              " 2138052.93,\n",
              " 6072832.27,\n",
              " 2007507.39,\n",
              " 2072019.12,\n",
              " 2063797.84,\n",
              " 2159869.02,\n",
              " 1998513.93,\n",
              " 2694402.67,\n",
              " 3221431.51,\n",
              " 2874690.58,\n",
              " 2575131.4,\n",
              " 2017076.09,\n",
              " 2070781.05,\n",
              " 3945675.37,\n",
              " 2890328.27,\n",
              " 2916584.7,\n",
              " 4359014.49,\n",
              " 3183682.79,\n",
              " 2258875.31,\n",
              " 2498769.37,\n",
              " 3140595.58,\n",
              " 3000201.36,\n",
              " 2049567.37,\n",
              " 2445953.84,\n",
              " 2251444.72,\n",
              " 2572047.62,\n",
              " 2602026.93,\n",
              " 2985031.24,\n",
              " 2159029.92,\n",
              " 2297686.6,\n",
              " 4050368.47,\n",
              " 2323393.07,\n",
              " 2329491.76,\n",
              " 2536199.21,\n",
              " 3008169.72,\n",
              " 2794908.77,\n",
              " 2438195.13,\n",
              " 3322966.46,\n",
              " 2810031.85,\n",
              " 2317941.56,\n",
              " 2021111.24,\n",
              " 2937737.68,\n",
              " 2724111.96,\n",
              " 2952815.41,\n",
              " 2075902.54,\n",
              " 2135339.03,\n",
              " 2833319.95,\n",
              " 2391256.75,\n",
              " 2355165.68,\n",
              " 2475802.01,\n",
              " 2592788.57,\n",
              " 2943850.49,\n",
              " 2018378.02,\n",
              " 2315756.68,\n",
              " 2727649.42,\n",
              " 2740783.29,\n",
              " 2008894.75,\n",
              " 2273575.29,\n",
              " 2185503.6,\n",
              " 2653662.47,\n",
              " 2006215.53,\n",
              " 2848050.61,\n",
              " 3883483.32,\n",
              " 2228208.42,\n",
              " 4140191.07,\n",
              " 2293132.46,\n",
              " 2846794.37,\n",
              " 2485895.39,\n",
              " 4045501.36,\n",
              " 2871903.23,\n",
              " 3076907.62,\n",
              " 3013384.95,\n",
              " 2539166.46,\n",
              " 2350527.39,\n",
              " 3396680.07,\n",
              " 2554976.91,\n",
              " 2365178.88,\n",
              " 2118753.01,\n",
              " 2312155.04,\n",
              " 2163656.58,\n",
              " 2151113.28,\n",
              " 3658316.7,\n",
              " 5077695.81,\n",
              " 2080117.1,\n",
              " 3115514.05,\n",
              " 3008995.18,\n",
              " 2161679.64,\n",
              " 2188932.52,\n",
              " 3790827.52,\n",
              " 1993624.65,\n",
              " 3460211.27,\n",
              " 2364771.17,\n",
              " 3207507.62,\n",
              " 2800443.06,\n",
              " 3030876.52,\n",
              " 2164737.88,\n",
              " 2276556.88,\n",
              " 3855345.17,\n",
              " 2949742.45,\n",
              " 2385685.67,\n",
              " 2227178.14,\n",
              " 2339822.5,\n",
              " 2248562.21,\n",
              " 2507447.05,\n",
              " 3109990.55,\n",
              " 2357650.31,\n",
              " 2607788.65,\n",
              " 2610045.12,\n",
              " 2803531.87,\n",
              " 2105076.06,\n",
              " 2715968.47,\n",
              " 3206762.36,\n",
              " 2563051.66,\n",
              " 2582656.07,\n",
              " 3711242.62,\n",
              " 3308793.96,\n",
              " 2687754.24,\n",
              " 2216861.21,\n",
              " 2806911.67,\n",
              " 2421879.01,\n",
              " 2278638.3,\n",
              " 2378102.82,\n",
              " 3595739.36,\n",
              " 2669226.91,\n",
              " 2200368.68,\n",
              " 2413769.69,\n",
              " 2163371.49,\n",
              " 2049043.46,\n",
              " 1999517.49,\n",
              " 2095788.22,\n",
              " 2044815.64,\n",
              " 2754382.95,\n",
              " 2138525.59,\n",
              " 2301571.06,\n",
              " 4391142.82,\n",
              " 2442412.5,\n",
              " 2882283.19,\n",
              " 2352629.45,\n",
              " 2132240.92,\n",
              " 3841303.57,\n",
              " 2055349.71,\n",
              " 2029208.82,\n",
              " 2514781.39,\n",
              " 2199256.84,\n",
              " 2820925.21,\n",
              " 2143920.44,\n",
              " 2156093.33,\n",
              " 2408688.45,\n",
              " 2065849.27,\n",
              " 3244949.71,\n",
              " 2096171.87,\n",
              " 2072103.2,\n",
              " 2967759.64,\n",
              " 3110340.03,\n",
              " 2493109.61,\n",
              " 2190733.66,\n",
              " 3278719.85,\n",
              " 2209045.84,\n",
              " 2830460.81,\n",
              " 2180677.49,\n",
              " 2003839.56,\n",
              " 3172635.24,\n",
              " 2402341.58,\n",
              " 2176411.92,\n",
              " 2083537.63,\n",
              " 2579744.22,\n",
              " 2611783.08,\n",
              " 2228768.98,\n",
              " 2367862.75,\n",
              " 2115019.79,\n",
              " 3766305.97,\n",
              " 2878517.05,\n",
              " 2006618.2,\n",
              " 2347802.63,\n",
              " 2494558.67,\n",
              " 3156584.55,\n",
              " 2828050.96,\n",
              " 3195990.97,\n",
              " 2548723.43,\n",
              " 2096963.46,\n",
              " 2298692.03,\n",
              " 2175219.16,\n",
              " 2038535.5,\n",
              " 3586118.61,\n",
              " 2011232.5,\n",
              " 3941724.11,\n",
              " 2465558.81,\n",
              " 2841291.57,\n",
              " 2045447.31,\n",
              " 2247213.2,\n",
              " 2224025.07,\n",
              " 2663164.6,\n",
              " 3702402.29,\n",
              " 3775771.66,\n",
              " 3152969.62,\n",
              " 6419835.27,\n",
              " 2728085.51,\n",
              " 2334906.45,\n",
              " 2126163.36,\n",
              " 3017287.8,\n",
              " 2266191.2,\n",
              " 2940593.35,\n",
              " 2327934.88,\n",
              " 2035123.69,\n",
              " 2928299.42,\n",
              " 2967626.13,\n",
              " 2284622.18,\n",
              " 2899025.14,\n",
              " 2884470.77,\n",
              " 2864281.53,\n",
              " 2124885.05,\n",
              " 2903700.49,\n",
              " 2486358.91,\n",
              " 2520212.21,\n",
              " 2691482.39,\n",
              " 2412788.28,\n",
              " 3059983.78,\n",
              " 2367461.72,\n",
              " 3317361.78,\n",
              " 2701398.65,\n",
              " 2164341.47,\n",
              " 2778262.56,\n",
              " 2003424.07,\n",
              " 4838196.22,\n",
              " 2285523.71,\n",
              " 2312009.39,\n",
              " 2283860.46,\n",
              " 5082871.4,\n",
              " 3629225.45,\n",
              " 3050236.71,\n",
              " 2845873.34,\n",
              " 2405586.86,\n",
              " 2198220.87,\n",
              " 3928391.64,\n",
              " 2826606.78,\n",
              " 2689247.59,\n",
              " 2664589.06,\n",
              " 2604828.2,\n",
              " 2776272.89,\n",
              " 3887312.56,\n",
              " 2730327.97,\n",
              " 2222658.5,\n",
              " 2148266.72,\n",
              " 3513076.14,\n",
              " 2121878.54,\n",
              " 2183475.86,\n",
              " 2771220.76,\n",
              " 2206237.28,\n",
              " 2667672.73,\n",
              " 2226777.29,\n",
              " 1997750.41,\n",
              " 2128349.14,\n",
              " 2026503.12,\n",
              " 3331169.22,\n",
              " 2986350.61,\n",
              " 2995297.29,\n",
              " 2230074.58,\n",
              " 3191867.5,\n",
              " 2381703.29,\n",
              " 2013508.15,\n",
              " 3071707.41,\n",
              " 2437180.15,\n",
              " 1993842.81,\n",
              " 2779197.58,\n",
              " 2380818.48,\n",
              " 2238161.71,\n",
              " 3394362.8,\n",
              " 2261593.05,\n",
              " 2385032.72,\n",
              " 2053901.73,\n",
              " 2632437.41,\n",
              " 2234239.71,\n",
              " 2413198.1,\n",
              " 2436142.5,\n",
              " 2537602.7,\n",
              " 3196738.54,\n",
              " 3316964.75,\n",
              " 2811180.98,\n",
              " 2255073.69,\n",
              " 3030343.86,\n",
              " 3172497.08,\n",
              " 2886553.31,\n",
              " 2114084.68,\n",
              " 2645530.69,\n",
              " 2306340.81,\n",
              " 2977893.41,\n",
              " 2136975.95,\n",
              " 2076195.4,\n",
              " 3554152.0,\n",
              " 2054809.0,\n",
              " 3897950.15,\n",
              " 2594904.29,\n",
              " 2519331.08,\n",
              " 3229019.53,\n",
              " 2315668.17,\n",
              " 2175250.97,\n",
              " 3058484.6,\n",
              " 2390561.35,\n",
              " 3454411.33,\n",
              " 3124361.95,\n",
              " 2282938.83,\n",
              " 2053404.56,\n",
              " 2702044.32,\n",
              " 2745586.7,\n",
              " 2782369.62,\n",
              " 2002707.08,\n",
              " 2519432.39,\n",
              " 2753894.03,\n",
              " 2762499.59,\n",
              " 4267247.51,\n",
              " 3354152.26,\n",
              " 2032132.6,\n",
              " 2772552.82,\n",
              " 2857814.3,\n",
              " 2846687.78,\n",
              " 2690218.74,\n",
              " 3001912.04,\n",
              " 2653738.16,\n",
              " 2122275.72,\n",
              " 2389758.35,\n",
              " 2800948.94,\n",
              " 2172878.97,\n",
              " 3454393.43,\n",
              " 2555995.32,\n",
              " 2917742.88,\n",
              " 3721154.26,\n",
              " 2634419.21,\n",
              " 2363091.13,\n",
              " 2756161.7,\n",
              " 2236023.15,\n",
              " 2401462.55,\n",
              " 2212413.4,\n",
              " 2640757.29,\n",
              " 2763688.34,\n",
              " 2595097.73,\n",
              " 2530718.13,\n",
              " 2988656.58,\n",
              " 2286508.05,\n",
              " 2675095.74,\n",
              " 3049437.48,\n",
              " 2844611.75,\n",
              " 3749893.1,\n",
              " 2685146.39,\n",
              " 2167910.99,\n",
              " 3151131.24,\n",
              " 3219760.03,\n",
              " 3098075.96,\n",
              " 2494079.27,\n",
              " 2643603.86,\n",
              " 2769032.91,\n",
              " 2178185.88,\n",
              " 2225918.39,\n",
              " 2893217.94,\n",
              " 2468086.33,\n",
              " 3117942.74,\n",
              " 2672647.61,\n",
              " 2737024.87,\n",
              " 2006216.45,\n",
              " 2900409.16,\n",
              " 2162691.48,\n",
              " 2559357.72,\n",
              " 2811159.59,\n",
              " 3369748.37,\n",
              " 2199983.1,\n",
              " 2064787.88,\n",
              " 3557292.27,\n",
              " 2003972.31,\n",
              " 3591107.93,\n",
              " 2830215.17,\n",
              " 2976918.48,\n",
              " 2837084.59,\n",
              " 3284276.15,\n",
              " 2862247.23,\n",
              " 2281505.46,\n",
              " 2569169.93,\n",
              " 2454200.64,\n",
              " 3459507.38,\n",
              " 2920612.16,\n",
              " 2336881.96,\n",
              " 2019702.67,\n",
              " 3657768.79,\n",
              " 2831651.99,\n",
              " 2864086.12,\n",
              " 2312761.6,\n",
              " 3411017.38,\n",
              " 3869488.24,\n",
              " 3505567.51,\n",
              " 2665523.64,\n",
              " 3140327.22,\n",
              " 3297456.64,\n",
              " 2853146.7,\n",
              " 2278826.8,\n",
              " 3215124.54,\n",
              " 2988698.51,\n",
              " 3637967.58,\n",
              " 2512934.72,\n",
              " 2336159.28,\n",
              " 3376181.02,\n",
              " 3480127.06,\n",
              " 3430529.92,\n",
              " 3025639.49,\n",
              " 3106724.31,\n",
              " 2662734.59,\n",
              " 2662734.59,\n",
              " 2333072.19,\n",
              " 2595685.68,\n",
              " 2259825.03,\n",
              " 2746937.4,\n",
              " 2084229.49,\n",
              " 2529133.21,\n",
              " 2962079.84,\n",
              " 2865498.4,\n",
              " 2671368.51,\n",
              " 2333733.77,\n",
              " 2061716.65,\n",
              " 2816824.83,\n",
              " 2816513.3,\n",
              " 2439142.59,\n",
              " 2019829.33,\n",
              " 3055198.22,\n",
              " 2388561.97,\n",
              " 2048171.32,\n",
              " 4129630.69,\n",
              " 2453722.34,\n",
              " 2227337.33,\n",
              " 3119657.41,\n",
              " 3295552.2,\n",
              " 2972591.95,\n",
              " 2191180.64,\n",
              " 2152595.01,\n",
              " 2320329.14,\n",
              " 2576440.78,\n",
              " 2926999.32,\n",
              " 2336832.78,\n",
              " 3233980.12,\n",
              " 3829152.06,\n",
              " 2333055.56,\n",
              " 2663906.69,\n",
              " 2038993.07,\n",
              " 2123671.26,\n",
              " 3203020.65,\n",
              " 3469457.09,\n",
              " 2118780.32,\n",
              " 2636489.71,\n",
              " 2947109.51,\n",
              " 4307107.47,\n",
              " 2563416.85,\n",
              " 2402052.26,\n",
              " 2644637.62,\n",
              " 2010387.29,\n",
              " 2045219.06,\n",
              " 3706221.67,\n",
              " 2212152.8,\n",
              " 2392764.23,\n",
              " 2112701.19,\n",
              " 2412843.02,\n",
              " 3390561.34,\n",
              " 2969984.43,\n",
              " 2053702.74,\n",
              " 2320627.35,\n",
              " 2805329.42,\n",
              " 2387170.09,\n",
              " 2669233.99,\n",
              " 2144571.88,\n",
              " 2257510.88,\n",
              " 2517039.94,\n",
              " 2131081.64,\n",
              " 2720735.8,\n",
              " 4745534.44,\n",
              " 2485445.51,\n",
              " 2074947.62,\n",
              " 2103688.55,\n",
              " 2299655.63,\n",
              " 2336033.35,\n",
              " 1993235.36,\n",
              " 2135365.38,\n",
              " 3870668.16,\n",
              " 3534313.55,\n",
              " 2364159.85,\n",
              " 3143948.22,\n",
              " 2645190.06,\n",
              " 3959743.34,\n",
              " 3407207.41,\n",
              " 2166107.35,\n",
              " 2813256.92,\n",
              " 2518070.13,\n",
              " 2169919.69,\n",
              " 2566167.37,\n",
              " 2405753.52,\n",
              " 2201618.3,\n",
              " 2899839.31,\n",
              " 2229090.25,\n",
              " 2147431.37,\n",
              " 3074850.9,\n",
              " 2571658.89,\n",
              " 2487240.99,\n",
              " 2977967.38,\n",
              " 3746871.76,\n",
              " 3714879.44,\n",
              " 2260215.63,\n",
              " 2047571.88,\n",
              " 2178771.99,\n",
              " 3547407.61,\n",
              " 3756042.41,\n",
              " 2136784.0,\n",
              " 2162309.17,\n",
              " 3185114.69,\n",
              " 2101135.4,\n",
              " 2521501.29,\n",
              " 2455057.76,\n",
              " 2405000.02,\n",
              " 2324411.1,\n",
              " 2170048.81,\n",
              " 2005112.2,\n",
              " 2368265.26,\n",
              " 2702071.22,\n",
              " 3349943.4,\n",
              " 2348960.28,\n",
              " 2882081.54,\n",
              " 2222408.05,\n",
              " 2246211.45,\n",
              " 2037470.6,\n",
              " 2059116.72,\n",
              " 2171618.54,\n",
              " 2918087.32,\n",
              " 2051186.7,\n",
              " 2338431.97,\n",
              " ...]"
            ]
          },
          "metadata": {
            "tags": []
          },
          "execution_count": 15
        }
      ]
    },
    {
      "cell_type": "markdown",
      "metadata": {
        "id": "fKgbsPzdYU2N"
      },
      "source": [
        "Although removing the outliers from a dataset is considered good;The amount mentioned in our dataset must not be error in data entry .They can be though of as real monetory transaction for any big financial company.Moreover, an amount transfer ,greater than 200,000 is automatically suspected as Fraudulent Transaction. Thus they will be a intergral to model evaluation we would just need to have both train and test sets have the same proportion of outliers. \n"
      ]
    },
    {
      "cell_type": "markdown",
      "metadata": {
        "id": "xRe1gHFOYU2O"
      },
      "source": [
        "<a name='1-3'></a>\n",
        "# Multi Collinearity"
      ]
    },
    {
      "cell_type": "code",
      "metadata": {
        "id": "s23SxV9dYU2O",
        "outputId": "5d35d648-5c58-4b6a-be4b-325edc4b5072"
      },
      "source": [
        "from scipy.stats import spearmanr\n",
        "corr, _ = spearmanr(data[\"isFraud\"], data[\"isFlaggedFraud\"])\n",
        "print('Spearmans correlation: %.3f' % corr)"
      ],
      "execution_count": null,
      "outputs": [
        {
          "output_type": "stream",
          "text": [
            "Spearmans correlation: 0.044\n"
          ],
          "name": "stdout"
        }
      ]
    },
    {
      "cell_type": "markdown",
      "metadata": {
        "id": "cXaf4i7eYU2O"
      },
      "source": [
        "The correlation between \"isFraud\" and \"isFlaggedFraud\" gives us the idea of how well the financial system is equipped to identify frauds occuring in their system. Thus an exclusive mention has been made here. The Spearmans Correlation tells us there is hardly any relation between the two of them thus informing us that the system is quite inefficient. "
      ]
    },
    {
      "cell_type": "markdown",
      "metadata": {
        "id": "PKpRS4aDYU2O"
      },
      "source": [
        "<a name='1-4'></a>\n",
        "## Making a Correlation Heatmap"
      ]
    },
    {
      "cell_type": "code",
      "metadata": {
        "id": "WGCXNq7hYU2P",
        "outputId": "d089d168-6a9b-4333-f14a-913e86b15040"
      },
      "source": [
        "#Creating a Correlation  Heatmap\n",
        "sns.heatmap(data.corr(method = \"spearman\"),annot = True, cmap= \"YlGnBu\")\n",
        "plt.show()"
      ],
      "execution_count": null,
      "outputs": [
        {
          "output_type": "display_data",
          "data": {
            "image/png": "[encoded data removed]",
            "text/plain": [
              "<Figure size 800x800 with 2 Axes>"
            ]
          },
          "metadata": {
            "tags": [],
            "needs_background": "light"
          }
        }
      ]
    },
    {
      "cell_type": "markdown",
      "metadata": {
        "id": "07OjXpOgYU2P"
      },
      "source": [
        "Consider the heatmap ; A very strong relationship between the \"newbalanceOrig\" and \"oldbalanceOrg\" persists similar can be said for the \"newbalanceDest\" and \"oldbalanceDest\". These variables might have similaar VIF's and thus removing a variable from the 2 pairs respectively will provide us with a better model.Though removal of these variables is entirely case dependent."
      ]
    },
    {
      "cell_type": "markdown",
      "metadata": {
        "id": "h_HayrTiYU2P"
      },
      "source": [
        "<a name='1-5'></a>\n",
        "## Calculating the VIF (Variable Inflation Factors) and removing extra Depedent Variables\n"
      ]
    },
    {
      "cell_type": "code",
      "metadata": {
        "id": "Uxi6KrHNYU2P"
      },
      "source": [
        "#Dropping columns (strings) that will not contribute to our model \n",
        "df = data.drop([\"step\",\"type\",\"nameOrig\",\"nameDest\"],axis = 1)"
      ],
      "execution_count": null,
      "outputs": []
    },
    {
      "cell_type": "code",
      "metadata": {
        "id": "98xpmbpEYU2P",
        "outputId": "6feaf351-7871-4123-9f5a-5d07a0c4cd33"
      },
      "source": [
        "from statsmodels.stats.outliers_influence import variance_inflation_factor\n",
        "vif_1=df.drop([\"isFraud\"],axis = 1)#removing of target variable is important in calculating VIF\n",
        "vif_= pd.DataFrame()\n",
        "vif_[\"features\"] = vif_1.columns\n",
        "vif_[\"vif_Factor\"] = [variance_inflation_factor(vif_1.values, i) for i in range(vif_1.shape[1])]\n",
        "print(vif_)"
      ],
      "execution_count": null,
      "outputs": [
        {
          "output_type": "stream",
          "text": [
            "         features  vif_Factor\n",
            "0          amount    3.864097\n",
            "1   oldbalanceOrg  464.014156\n",
            "2  newbalanceOrig  465.358557\n",
            "3  oldbalanceDest   70.476690\n",
            "4  newbalanceDest   82.198252\n",
            "5  isFlaggedFraud    1.000565\n"
          ],
          "name": "stdout"
        }
      ]
    },
    {
      "cell_type": "markdown",
      "metadata": {
        "id": "9DUKEhIOYU2Q"
      },
      "source": [
        "VIF basically measures the depencies of the independent vairables upon each other.VIF score of an independent variable represents how well the variable is explained by other independent variables. For scores above 10 for VIF, severe multicollinearity is a problem as it can increase the variance of the coefficient estimates and make the estimates very sensitive to minor changes in the model"
      ]
    },
    {
      "cell_type": "code",
      "metadata": {
        "id": "HWlm1BY1YU2Q",
        "outputId": "b294a7dd-914a-4277-a8cb-2c2bfb3f75f7"
      },
      "source": [
        "from statsmodels.stats.outliers_influence import variance_inflation_factor\n",
        "vif_2=df.drop([\"isFraud\",\"oldbalanceOrg\",\"newbalanceDest\"],axis = 1)\n",
        "vif_ = pd.DataFrame()\n",
        "vif_[\"features\"] = vif_2.columns\n",
        "vif_[\"vif_Factor\"] = [variance_inflation_factor(vif_2.values, i) for i in range(vif_2.shape[1])]\n",
        "print(vif_)"
      ],
      "execution_count": null,
      "outputs": [
        {
          "output_type": "stream",
          "text": [
            "         features  vif_Factor\n",
            "0          amount    1.145983\n",
            "1  newbalanceOrig    1.023012\n",
            "2  oldbalanceDest    1.165392\n",
            "3  isFlaggedFraud    1.000186\n"
          ],
          "name": "stdout"
        }
      ]
    },
    {
      "cell_type": "markdown",
      "metadata": {
        "id": "HwUZ9qubYU2Q"
      },
      "source": [
        "Variables \"oldbalanceOrg\" and \"newbalanceDest\" have been removed for illustration of how the VIF become ideal(near to 1) upon their removal.\n",
        "\n"
      ]
    },
    {
      "cell_type": "markdown",
      "metadata": {
        "id": "lkc7UwzVYU2R"
      },
      "source": [
        "But how helpful has this process been for our model. Let's check out with a simple linear regression (using binary cross-entropy to find if it's a good fit our orignial problem) whether removing the independent variables improved our model or has worsened it."
      ]
    },
    {
      "cell_type": "markdown",
      "metadata": {
        "id": "J80TSViIYU2R"
      },
      "source": [
        "<a name='2'></a>\n",
        "# Data-Preprocessing \n"
      ]
    },
    {
      "cell_type": "markdown",
      "metadata": {
        "id": "oN_vtTt6YU2R"
      },
      "source": [
        "<a name='2-1'></a>\n",
        "### Creating datasets for normal and fraudulent transactions"
      ]
    },
    {
      "cell_type": "code",
      "metadata": {
        "id": "-mEAW2xOYU2R",
        "outputId": "be27833c-0760-4f44-f181-c0653bbfec5b"
      },
      "source": [
        "legit = df[df.isFraud == 0]\n",
        "fraud = df[df.isFraud == 1] \n",
        "\n",
        "print(legit.shape,fraud.shape)#notice the shape of the dataframe..."
      ],
      "execution_count": null,
      "outputs": [
        {
          "output_type": "stream",
          "text": [
            "(6354407, 7) (8213, 7)\n"
          ],
          "name": "stdout"
        }
      ]
    },
    {
      "cell_type": "markdown",
      "metadata": {
        "id": "DerURdQLYU2S"
      },
      "source": [
        "Clearly the dataset is highly unbalanced. Thus we need to carry out either undersampling or oversampling."
      ]
    },
    {
      "cell_type": "markdown",
      "metadata": {
        "id": "P5vI_CNzYU2S"
      },
      "source": [
        "<a name='2-2'></a>\n",
        "## UnderSampling the data\n"
      ]
    },
    {
      "cell_type": "code",
      "metadata": {
        "id": "U5woFmKYYU2S"
      },
      "source": [
        "legit_sample = legit.sample(n =fraud.shape[0])\n",
        "new_dataset = pd.concat([legit_sample,fraud],axis = 0)"
      ],
      "execution_count": null,
      "outputs": []
    },
    {
      "cell_type": "code",
      "metadata": {
        "scrolled": true,
        "id": "R35gs0g_YU2S",
        "outputId": "ce350a9d-4777-49a1-9924-8188e70d90da"
      },
      "source": [
        "new_dataset.head\n"
      ],
      "execution_count": null,
      "outputs": [
        {
          "output_type": "execute_result",
          "data": {
            "text/plain": [
              "<bound method NDFrame.head of              amount  oldbalanceOrg  newbalanceOrig  oldbalanceDest  \\\n",
              "3829627   173595.11           0.00            0.00       486152.71   \n",
              "1953959     8975.30           0.00            0.00        59248.65   \n",
              "1309743    24692.06     9811375.63      9836067.68       759705.31   \n",
              "1008408    20560.93          22.00            0.00            0.00   \n",
              "5127402    64598.65           0.00            0.00      1654955.35   \n",
              "...             ...            ...             ...             ...   \n",
              "6362615   339682.13      339682.13            0.00            0.00   \n",
              "6362616  6311409.28     6311409.28            0.00            0.00   \n",
              "6362617  6311409.28     6311409.28            0.00        68488.84   \n",
              "6362618   850002.52      850002.52            0.00            0.00   \n",
              "6362619   850002.52      850002.52            0.00      6510099.11   \n",
              "\n",
              "         newbalanceDest  isFraud  isFlaggedFraud  \n",
              "3829627       659747.82        0               0  \n",
              "1953959        68223.95        0               0  \n",
              "1309743       750186.52        0               0  \n",
              "1008408            0.00        0               0  \n",
              "5127402      1719554.00        0               0  \n",
              "...                 ...      ...             ...  \n",
              "6362615       339682.13        1               0  \n",
              "6362616            0.00        1               0  \n",
              "6362617      6379898.11        1               0  \n",
              "6362618            0.00        1               0  \n",
              "6362619      7360101.63        1               0  \n",
              "\n",
              "[16426 rows x 7 columns]>"
            ]
          },
          "metadata": {
            "tags": []
          },
          "execution_count": 110
        }
      ]
    },
    {
      "cell_type": "markdown",
      "metadata": {
        "id": "Mmkm_vDeYU2T"
      },
      "source": [
        "<a name='2-3'></a>\n",
        "## Using the dataset without removing High VIF causing variables"
      ]
    },
    {
      "cell_type": "code",
      "metadata": {
        "id": "F8tuXpStYU2T",
        "outputId": "d06d2662-d696-47e2-9306-d8abf4c52a36"
      },
      "source": [
        "new_dataset['isFraud'].value_counts()\n",
        "new_dataset.groupby('isFraud').mean()\n"
      ],
      "execution_count": null,
      "outputs": [
        {
          "output_type": "execute_result",
          "data": {
            "text/html": [
              "<div>\n",
              "<style scoped>\n",
              "    .dataframe tbody tr th:only-of-type {\n",
              "        vertical-align: middle;\n",
              "    }\n",
              "\n",
              "    .dataframe tbody tr th {\n",
              "        vertical-align: top;\n",
              "    }\n",
              "\n",
              "    .dataframe thead th {\n",
              "        text-align: right;\n",
              "    }\n",
              "</style>\n",
              "<table border=\"1\" class=\"dataframe\">\n",
              "  <thead>\n",
              "    <tr style=\"text-align: right;\">\n",
              "      <th></th>\n",
              "      <th>amount</th>\n",
              "      <th>oldbalanceOrg</th>\n",
              "      <th>newbalanceOrig</th>\n",
              "      <th>oldbalanceDest</th>\n",
              "      <th>newbalanceDest</th>\n",
              "      <th>isFlaggedFraud</th>\n",
              "    </tr>\n",
              "    <tr>\n",
              "      <th>isFraud</th>\n",
              "      <th></th>\n",
              "      <th></th>\n",
              "      <th></th>\n",
              "      <th></th>\n",
              "      <th></th>\n",
              "      <th></th>\n",
              "    </tr>\n",
              "  </thead>\n",
              "  <tbody>\n",
              "    <tr>\n",
              "      <th>0</th>\n",
              "      <td>1.734324e+05</td>\n",
              "      <td>8.067891e+05</td>\n",
              "      <td>829384.755807</td>\n",
              "      <td>1.068524e+06</td>\n",
              "      <td>1.190741e+06</td>\n",
              "      <td>0.000000</td>\n",
              "    </tr>\n",
              "    <tr>\n",
              "      <th>1</th>\n",
              "      <td>1.467967e+06</td>\n",
              "      <td>1.649668e+06</td>\n",
              "      <td>192392.631836</td>\n",
              "      <td>5.442496e+05</td>\n",
              "      <td>1.279708e+06</td>\n",
              "      <td>0.001948</td>\n",
              "    </tr>\n",
              "  </tbody>\n",
              "</table>\n",
              "</div>"
            ],
            "text/plain": [
              "               amount  oldbalanceOrg  newbalanceOrig  oldbalanceDest  \\\n",
              "isFraud                                                                \n",
              "0        1.734324e+05   8.067891e+05   829384.755807    1.068524e+06   \n",
              "1        1.467967e+06   1.649668e+06   192392.631836    5.442496e+05   \n",
              "\n",
              "         newbalanceDest  isFlaggedFraud  \n",
              "isFraud                                  \n",
              "0          1.190741e+06        0.000000  \n",
              "1          1.279708e+06        0.001948  "
            ]
          },
          "metadata": {
            "tags": []
          },
          "execution_count": 111
        }
      ]
    },
    {
      "cell_type": "markdown",
      "metadata": {
        "id": "MloTUzPGYU2T"
      },
      "source": [
        "The new_dataset created by undersampling has almost the same mean as that of the original dataset. Thus making it a valid dataframe to train our model on."
      ]
    },
    {
      "cell_type": "code",
      "metadata": {
        "id": "mvLwYQKjYU2T"
      },
      "source": [
        "X = new_dataset.drop(columns = 'isFraud',axis =1)#dropping the target variable before split\n",
        "Y = new_dataset[\"isFraud\"]#creating another dataframe with the target variable in it"
      ],
      "execution_count": null,
      "outputs": []
    },
    {
      "cell_type": "code",
      "metadata": {
        "id": "sAzs9JfEYU2T",
        "outputId": "4c8d66b8-1634-473c-9857-cb0c48b650f4"
      },
      "source": [
        "X.shape,Y.shape"
      ],
      "execution_count": null,
      "outputs": [
        {
          "output_type": "execute_result",
          "data": {
            "text/plain": [
              "((16426, 6), (16426,))"
            ]
          },
          "metadata": {
            "tags": []
          },
          "execution_count": 113
        }
      ]
    },
    {
      "cell_type": "code",
      "metadata": {
        "id": "mIcCVMr-YU2U",
        "outputId": "86406a9e-f09b-46bb-baa3-973195c72849"
      },
      "source": [
        "#Splitting the data into training data and testing data\n",
        "from sklearn.model_selection import train_test_split\n",
        "X_train,X_test,y_train,y_test = train_test_split(X,Y,test_size = 0.2,stratify = Y,random_state = 0)\n",
        "print(X_train.shape, X_test.shape)\n",
        "print(y_train.shape,y_test.shape)"
      ],
      "execution_count": null,
      "outputs": [
        {
          "output_type": "stream",
          "text": [
            "(13140, 6) (3286, 6)\n",
            "(13140,) (3286,)\n"
          ],
          "name": "stdout"
        }
      ]
    },
    {
      "cell_type": "markdown",
      "metadata": {
        "id": "TMd4X1l1YU2U"
      },
      "source": [
        "<a name='3'></a>\n",
        "# ML Models"
      ]
    },
    {
      "cell_type": "markdown",
      "metadata": {
        "id": "Rg3gEMcOYU2U"
      },
      "source": [
        "<a name='3-1'></a>\n",
        "# Logistic Regression"
      ]
    },
    {
      "cell_type": "code",
      "metadata": {
        "id": "b_hSYumTYU2U",
        "outputId": "0c6c28d6-61f6-44cb-9384-4ebe9db0a0b0"
      },
      "source": [
        "from sklearn.metrics import classification_report\n",
        "from sklearn.linear_model import LogisticRegression\n",
        "model = LogisticRegression()\n",
        "\n",
        "#training the model\n",
        "model.fit(X_train,y_train)\n",
        "\n",
        "#Accuracy on training data\n",
        "from sklearn.metrics import accuracy_score\n",
        "X_train_pred = model.predict(X_train)\n",
        "training_data_acc =accuracy_score(X_train_pred,y_train)\n",
        "\n",
        "X_test_pred = model.predict(X_test)\n",
        "test_data_acc = accuracy_score(X_test_pred, y_test)\n",
        "\n",
        "print(\"Classification Report: \\n\", classification_report(y_test, X_test_pred))"
      ],
      "execution_count": null,
      "outputs": [
        {
          "output_type": "stream",
          "text": [
            "Classification Report: \n",
            "               precision    recall  f1-score   support\n",
            "\n",
            "           0       0.97      0.80      0.88      1643\n",
            "           1       0.83      0.98      0.90      1643\n",
            "\n",
            "    accuracy                           0.89      3286\n",
            "   macro avg       0.90      0.89      0.89      3286\n",
            "weighted avg       0.90      0.89      0.89      3286\n",
            "\n"
          ],
          "name": "stdout"
        }
      ]
    },
    {
      "cell_type": "code",
      "metadata": {
        "scrolled": false,
        "id": "APiX_GDvYU2U",
        "outputId": "5db5ebf4-0346-4766-a302-d2b5eb1d19e0"
      },
      "source": [
        "from sklearn.metrics import confusion_matrix\n",
        "#printing the confusion matrix\n",
        "LABELS = ['Normal', 'Fraud']\n",
        "conf_matrix = confusion_matrix(y_test, X_test_pred)\n",
        "plt.figure(figsize=(12, 12))\n",
        "sns.heatmap(conf_matrix, xticklabels=LABELS, yticklabels=LABELS, annot=True, fmt=\"d\");\n",
        "plt.title(\"Confusion matrix\")\n",
        "plt.ylabel('True class')\n",
        "plt.xlabel('Predicted class')\n",
        "plt.show()"
      ],
      "execution_count": null,
      "outputs": [
        {
          "output_type": "display_data",
          "data": {
            "image/png": "[encoded data removed]",
            "text/plain": [
              "<Figure size 1200x1200 with 2 Axes>"
            ]
          },
          "metadata": {
            "tags": [],
            "needs_background": "light"
          }
        }
      ]
    },
    {
      "cell_type": "markdown",
      "metadata": {
        "id": "AFfPY7eLYU2U"
      },
      "source": [
        "<a name='3-2'></a>\n",
        "### Feature Importance"
      ]
    },
    {
      "cell_type": "code",
      "metadata": {
        "id": "kY_WVlbBYU2V"
      },
      "source": [
        "importances = pd.DataFrame(data={\n",
        "    'Attribute': X_train.columns,\n",
        "    'Importance': model.coef_[0]\n",
        "})"
      ],
      "execution_count": null,
      "outputs": []
    },
    {
      "cell_type": "code",
      "metadata": {
        "id": "hWmzmyuHYU2V",
        "outputId": "d50de078-4ab8-4330-9291-cc10d0748075"
      },
      "source": [
        "importances = importances.sort_values(by='Importance', ascending=False)\n",
        "plt.bar(x=importances['Attribute'], height=importances['Importance'], color='#087E8B')\n",
        "plt.title('Feature importances obtained from coefficients', size=10)\n",
        "plt.xticks(rotation= 0 )\n",
        "plt.show()"
      ],
      "execution_count": null,
      "outputs": [
        {
          "output_type": "display_data",
          "data": {
            "image/png": "[encoded data removed]",
            "text/plain": [
              "<Figure size 800x800 with 1 Axes>"
            ]
          },
          "metadata": {
            "tags": [],
            "needs_background": "light"
          }
        }
      ]
    },
    {
      "cell_type": "markdown",
      "metadata": {
        "id": "ep3zbfzHYU2V"
      },
      "source": [
        "The graph shows us the importance of the features in the dataset as evident that isFlaggedFraud has a very little contribution to the data set while rest features have significant contribution to the determination of the classification.\n"
      ]
    },
    {
      "cell_type": "markdown",
      "metadata": {
        "id": "RS55WdycYU2V"
      },
      "source": [
        "<a name='3-3'></a>\n",
        "### Using the refined dataset"
      ]
    },
    {
      "cell_type": "code",
      "metadata": {
        "id": "TFzaY4WKYU2V"
      },
      "source": [
        "df = data.drop([\"step\",\"type\",\"nameOrig\",\"nameDest\",\"oldbalanceOrg\",\"newbalanceDest\"],axis = 1)"
      ],
      "execution_count": null,
      "outputs": []
    },
    {
      "cell_type": "code",
      "metadata": {
        "id": "7ekosTf1YU2W",
        "outputId": "c451513c-9f3b-4568-ea49-be8243a94f0b"
      },
      "source": [
        "legit = df[df.isFraud == 0]\n",
        "fraud = df[df.isFraud == 1] \n",
        "\n",
        "print(legit.shape,fraud.shape)#notice the shape of the dataframe.."
      ],
      "execution_count": null,
      "outputs": [
        {
          "output_type": "stream",
          "text": [
            "(6354407, 5) (8213, 5)\n"
          ],
          "name": "stdout"
        }
      ]
    },
    {
      "cell_type": "code",
      "metadata": {
        "id": "2B7w3WiaYU2W"
      },
      "source": [
        "legit_sample = legit.sample(n =fraud.shape[0])\n",
        "new_dataset = pd.concat([legit_sample,fraud],axis = 0)"
      ],
      "execution_count": null,
      "outputs": []
    },
    {
      "cell_type": "code",
      "metadata": {
        "id": "ymQAb7I8YU2W",
        "outputId": "31299f0b-d6c4-4fb4-cf10-bf36cb5af9ec"
      },
      "source": [
        "new_dataset['isFraud'].value_counts()\n",
        "new_dataset.groupby('isFraud').mean()\n"
      ],
      "execution_count": null,
      "outputs": [
        {
          "output_type": "execute_result",
          "data": {
            "text/html": [
              "<div>\n",
              "<style scoped>\n",
              "    .dataframe tbody tr th:only-of-type {\n",
              "        vertical-align: middle;\n",
              "    }\n",
              "\n",
              "    .dataframe tbody tr th {\n",
              "        vertical-align: top;\n",
              "    }\n",
              "\n",
              "    .dataframe thead th {\n",
              "        text-align: right;\n",
              "    }\n",
              "</style>\n",
              "<table border=\"1\" class=\"dataframe\">\n",
              "  <thead>\n",
              "    <tr style=\"text-align: right;\">\n",
              "      <th></th>\n",
              "      <th>amount</th>\n",
              "      <th>newbalanceOrig</th>\n",
              "      <th>oldbalanceDest</th>\n",
              "      <th>isFlaggedFraud</th>\n",
              "    </tr>\n",
              "    <tr>\n",
              "      <th>isFraud</th>\n",
              "      <th></th>\n",
              "      <th></th>\n",
              "      <th></th>\n",
              "      <th></th>\n",
              "    </tr>\n",
              "  </thead>\n",
              "  <tbody>\n",
              "    <tr>\n",
              "      <th>0</th>\n",
              "      <td>1.747386e+05</td>\n",
              "      <td>879487.198602</td>\n",
              "      <td>1.092952e+06</td>\n",
              "      <td>0.000000</td>\n",
              "    </tr>\n",
              "    <tr>\n",
              "      <th>1</th>\n",
              "      <td>1.467967e+06</td>\n",
              "      <td>192392.631836</td>\n",
              "      <td>5.442496e+05</td>\n",
              "      <td>0.001948</td>\n",
              "    </tr>\n",
              "  </tbody>\n",
              "</table>\n",
              "</div>"
            ],
            "text/plain": [
              "               amount  newbalanceOrig  oldbalanceDest  isFlaggedFraud\n",
              "isFraud                                                              \n",
              "0        1.747386e+05   879487.198602    1.092952e+06        0.000000\n",
              "1        1.467967e+06   192392.631836    5.442496e+05        0.001948"
            ]
          },
          "metadata": {
            "tags": []
          },
          "execution_count": 86
        }
      ]
    },
    {
      "cell_type": "code",
      "metadata": {
        "id": "YSK9cMoFYU2W"
      },
      "source": [
        "X = new_dataset.drop(columns = 'isFraud',axis =1)#dropping the target variable before split\n",
        "Y = new_dataset[\"isFraud\"]#creating another dataframe with the target variable in it"
      ],
      "execution_count": null,
      "outputs": []
    },
    {
      "cell_type": "code",
      "metadata": {
        "id": "6pCfdhFeYU2W",
        "outputId": "2e55a1dc-2acd-479c-f23b-1f43172ca7a9"
      },
      "source": [
        "#Splitting the data into training data and testing data\n",
        "from sklearn.model_selection import train_test_split\n",
        "X_train,X_test,y_train,y_test = train_test_split(X,Y,test_size = 0.2,stratify = Y,random_state = 0)\n",
        "print(X_train.shape, X_test.shape)\n",
        "print(y_train.shape,y_test.shape)"
      ],
      "execution_count": null,
      "outputs": [
        {
          "output_type": "stream",
          "text": [
            "(13140, 4) (3286, 4)\n",
            "(13140,) (3286,)\n"
          ],
          "name": "stdout"
        }
      ]
    },
    {
      "cell_type": "code",
      "metadata": {
        "id": "tDV1a6qTYU2W",
        "outputId": "c833a23b-63f5-46aa-e75f-47b1c41131aa"
      },
      "source": [
        "from sklearn.metrics import classification_report\n",
        "from sklearn.linear_model import LogisticRegression\n",
        "model = LogisticRegression()\n",
        "\n",
        "#training the model\n",
        "model.fit(X_train,y_train)\n",
        "\n",
        "#Accuracy on training data\n",
        "from sklearn.metrics import accuracy_score\n",
        "X_train_pred = model.predict(X_train)\n",
        "training_data_acc =accuracy_score(X_train_pred,y_train)\n",
        "\n",
        "X_test_pred = model.predict(X_test)\n",
        "test_data_acc = accuracy_score(X_test_pred, y_test)\n",
        "\n",
        "print(\"Classification Report: \\n\", classification_report(y_test, X_test_pred))"
      ],
      "execution_count": null,
      "outputs": [
        {
          "output_type": "stream",
          "text": [
            "Classification Report: \n",
            "               precision    recall  f1-score   support\n",
            "\n",
            "           0       0.82      0.45      0.58      1643\n",
            "           1       0.62      0.90      0.74      1643\n",
            "\n",
            "    accuracy                           0.68      3286\n",
            "   macro avg       0.72      0.68      0.66      3286\n",
            "weighted avg       0.72      0.68      0.66      3286\n",
            "\n"
          ],
          "name": "stdout"
        }
      ]
    },
    {
      "cell_type": "markdown",
      "metadata": {
        "id": "xxMyk-I8YU2X"
      },
      "source": [
        "We can clearly see that using the so \"refined\" dataset which had low VIF that f1 score(which is the function of precision and recall and a very important characteristic for classification problems) dropped quite heavily.Thus removing the 2 independent variables was not helpful here."
      ]
    },
    {
      "cell_type": "code",
      "metadata": {
        "id": "blDixBa6YU2X",
        "outputId": "646c7f23-a9ef-4e1c-c5eb-e0e5b194419f"
      },
      "source": [
        "#printing the confusion matrix\n",
        "LABELS = ['Normal', 'Fraud']\n",
        "conf_matrix = confusion_matrix(y_test,X_test_pred)\n",
        "plt.figure(figsize=(12, 12))\n",
        "sns.heatmap(conf_matrix, xticklabels=LABELS, yticklabels=LABELS, annot=True, fmt=\"d\");\n",
        "plt.title(\"Confusion matrix\")\n",
        "plt.ylabel('True class')\n",
        "plt.xlabel('Predicted class')\n",
        "plt.show()"
      ],
      "execution_count": null,
      "outputs": [
        {
          "output_type": "display_data",
          "data": {
            "image/png": "[encoded data removed]",
            "text/plain": [
              "<Figure size 1200x1200 with 2 Axes>"
            ]
          },
          "metadata": {
            "tags": [],
            "needs_background": "light"
          }
        }
      ]
    },
    {
      "cell_type": "markdown",
      "metadata": {
        "id": "jU0L9dDGYU2X"
      },
      "source": [
        "<a name='3-4'></a>\n",
        "# ANN model for classification using undersampling\n",
        "\n"
      ]
    },
    {
      "cell_type": "markdown",
      "metadata": {
        "id": "G2JVg1kcYU2X"
      },
      "source": [
        "#### owning to our results above we are going to be using the old dataset i.e\n",
        "    df = data.drop([\"step\",\"type\",\"nameOrig\",\"nameDest\"],axis = 1)\n",
        "    and not \n",
        "    df = data.drop([\"step\",\"type\",\"nameOrig\",\"nameDest\",\"oldbalanceOrg\",\"newbalanceDest\"],axis = 1)"
      ]
    },
    {
      "cell_type": "code",
      "metadata": {
        "id": "nfIrP7cEYU2Y"
      },
      "source": [
        "df = data.drop([\"step\",\"type\",\"nameOrig\",\"nameDest\"],axis = 1)"
      ],
      "execution_count": null,
      "outputs": []
    },
    {
      "cell_type": "code",
      "metadata": {
        "id": "ifYGOKBCYU2Y",
        "outputId": "1ff5f8ce-4c19-4f5e-bc5a-e28c3ff1209a"
      },
      "source": [
        "legit = df[df.isFraud == 0]\n",
        "fraud = df[df.isFraud == 1] \n",
        "\n",
        "print(legit.shape,fraud.shape)#notice the shape of the dataframe.."
      ],
      "execution_count": null,
      "outputs": [
        {
          "output_type": "stream",
          "text": [
            "(6354407, 7) (8213, 7)\n"
          ],
          "name": "stdout"
        }
      ]
    },
    {
      "cell_type": "code",
      "metadata": {
        "id": "-dTFsSS2YU2Y"
      },
      "source": [
        "legit_sample = legit.sample(n =fraud.shape[0])\n",
        "new_dataset = pd.concat([legit_sample,fraud],axis = 0)"
      ],
      "execution_count": null,
      "outputs": []
    },
    {
      "cell_type": "code",
      "metadata": {
        "id": "wpA2qAG7YU2Y",
        "outputId": "5c75e347-38fc-4986-b34e-3c2ee8451bc4"
      },
      "source": [
        "new_dataset['isFraud'].value_counts()\n",
        "new_dataset.groupby('isFraud').mean()"
      ],
      "execution_count": null,
      "outputs": [
        {
          "output_type": "execute_result",
          "data": {
            "text/html": [
              "<div>\n",
              "<style scoped>\n",
              "    .dataframe tbody tr th:only-of-type {\n",
              "        vertical-align: middle;\n",
              "    }\n",
              "\n",
              "    .dataframe tbody tr th {\n",
              "        vertical-align: top;\n",
              "    }\n",
              "\n",
              "    .dataframe thead th {\n",
              "        text-align: right;\n",
              "    }\n",
              "</style>\n",
              "<table border=\"1\" class=\"dataframe\">\n",
              "  <thead>\n",
              "    <tr style=\"text-align: right;\">\n",
              "      <th></th>\n",
              "      <th>amount</th>\n",
              "      <th>oldbalanceOrg</th>\n",
              "      <th>newbalanceOrig</th>\n",
              "      <th>oldbalanceDest</th>\n",
              "      <th>newbalanceDest</th>\n",
              "      <th>isFlaggedFraud</th>\n",
              "    </tr>\n",
              "    <tr>\n",
              "      <th>isFraud</th>\n",
              "      <th></th>\n",
              "      <th></th>\n",
              "      <th></th>\n",
              "      <th></th>\n",
              "      <th></th>\n",
              "      <th></th>\n",
              "    </tr>\n",
              "  </thead>\n",
              "  <tbody>\n",
              "    <tr>\n",
              "      <th>0</th>\n",
              "      <td>1.858435e+05</td>\n",
              "      <td>8.059633e+05</td>\n",
              "      <td>827668.667968</td>\n",
              "      <td>1.126752e+06</td>\n",
              "      <td>1.254740e+06</td>\n",
              "      <td>0.000000</td>\n",
              "    </tr>\n",
              "    <tr>\n",
              "      <th>1</th>\n",
              "      <td>1.467967e+06</td>\n",
              "      <td>1.649668e+06</td>\n",
              "      <td>192392.631836</td>\n",
              "      <td>5.442496e+05</td>\n",
              "      <td>1.279708e+06</td>\n",
              "      <td>0.001948</td>\n",
              "    </tr>\n",
              "  </tbody>\n",
              "</table>\n",
              "</div>"
            ],
            "text/plain": [
              "               amount  oldbalanceOrg  newbalanceOrig  oldbalanceDest  \\\n",
              "isFraud                                                                \n",
              "0        1.858435e+05   8.059633e+05   827668.667968    1.126752e+06   \n",
              "1        1.467967e+06   1.649668e+06   192392.631836    5.442496e+05   \n",
              "\n",
              "         newbalanceDest  isFlaggedFraud  \n",
              "isFraud                                  \n",
              "0          1.254740e+06        0.000000  \n",
              "1          1.279708e+06        0.001948  "
            ]
          },
          "metadata": {
            "tags": []
          },
          "execution_count": 56
        }
      ]
    },
    {
      "cell_type": "code",
      "metadata": {
        "id": "CbYcFeKXYU2Y"
      },
      "source": [
        "X = new_dataset.drop(columns = 'isFraud',axis =1)#dropping the target variable before split\n",
        "Y = new_dataset[\"isFraud\"]#creating another dataframe with the target variable in it"
      ],
      "execution_count": null,
      "outputs": []
    },
    {
      "cell_type": "code",
      "metadata": {
        "id": "oJ2YFvVKYU2Y",
        "outputId": "6221e29a-1c6c-491a-cc70-568823209352"
      },
      "source": [
        "#Splitting the data into training data and testing data\n",
        "from sklearn.model_selection import train_test_split\n",
        "X_train,X_test,y_train,y_test = train_test_split(X,Y,test_size = 0.2,stratify = Y,random_state = 0)\n",
        "print(X_train.shape, X_test.shape)\n",
        "print(y_train.shape,y_test.shape)"
      ],
      "execution_count": null,
      "outputs": [
        {
          "output_type": "stream",
          "text": [
            "(13140, 6) (3286, 6)\n",
            "(13140,) (3286,)\n"
          ],
          "name": "stdout"
        }
      ]
    },
    {
      "cell_type": "code",
      "metadata": {
        "id": "7xy88K6nYU2Z"
      },
      "source": [
        "import tensorflow as tf\n",
        "def ANN(X_train, y_train, X_test, y_test, loss,weights):\n",
        "    model = tf.keras.Sequential([\n",
        "        tf.keras.layers.Dense(26,input_shape =(X_train.shape[0], X_train.shape[1]), activation='relu'),\n",
        "        tf.keras.layers.Dense(13, activation='relu'),\n",
        "        tf.keras.layers.Dense(1, activation='sigmoid')\n",
        "    ])\n",
        "\n",
        "    model.compile(optimizer='adam', loss=loss, metrics=['accuracy'])\n",
        "    \n",
        "    if weights == -1:\n",
        "        model.fit(X_train, y_train,epochs=35)\n",
        "    else:\n",
        "        model.fit(X_train, y_train, epochs=100,class_weight = weights)\n",
        "    \n",
        "    print(model.evaluate(X_test, y_test))\n",
        "    \n",
        "    y_preds = model.predict(X_test)\n",
        "    y_preds = np.round(y_preds)\n",
        "    \n",
        "    print(\"Classification Report: \\n\", classification_report(y_test, y_preds))\n",
        "    \n",
        "    return y_preds"
      ],
      "execution_count": null,
      "outputs": []
    },
    {
      "cell_type": "code",
      "metadata": {
        "id": "eLhLwhcEYU2b",
        "outputId": "ffef704c-304d-413c-f204-0e6c5ce3c565"
      },
      "source": [
        "y_preds = ANN(X_train, y_train, X_test, y_test, 'binary_crossentropy',-1)\n"
      ],
      "execution_count": null,
      "outputs": [
        {
          "output_type": "stream",
          "text": [
            "Epoch 1/35\n",
            "WARNING:tensorflow:Model was constructed with shape (None, 13140, 6) for input KerasTensor(type_spec=TensorSpec(shape=(None, 13140, 6), dtype=tf.float32, name='dense_3_input'), name='dense_3_input', description=\"created by layer 'dense_3_input'\"), but it was called on an input with incompatible shape (None, 6).\n",
            "WARNING:tensorflow:Model was constructed with shape (None, 13140, 6) for input KerasTensor(type_spec=TensorSpec(shape=(None, 13140, 6), dtype=tf.float32, name='dense_3_input'), name='dense_3_input', description=\"created by layer 'dense_3_input'\"), but it was called on an input with incompatible shape (None, 6).\n",
            "411/411 [==============================] - 2s 4ms/step - loss: 45471.1948 - accuracy: 0.6939\n",
            "Epoch 2/35\n",
            "411/411 [==============================] - 1s 4ms/step - loss: 2102.0608 - accuracy: 0.8137\n",
            "Epoch 3/35\n",
            "411/411 [==============================] - 5s 11ms/step - loss: 1195.2381 - accuracy: 0.8477\n",
            "Epoch 4/35\n",
            "411/411 [==============================] - 2s 4ms/step - loss: 1529.3247 - accuracy: 0.8714\n",
            "Epoch 5/35\n",
            "411/411 [==============================] - 2s 4ms/step - loss: 2520.7263 - accuracy: 0.8953\n",
            "Epoch 6/35\n",
            "411/411 [==============================] - 2s 4ms/step - loss: 1167.0821 - accuracy: 0.9077\n",
            "Epoch 7/35\n",
            "411/411 [==============================] - 2s 4ms/step - loss: 1217.6816 - accuracy: 0.9078\n",
            "Epoch 8/35\n",
            "411/411 [==============================] - 2s 5ms/step - loss: 2142.7689 - accuracy: 0.8938\n",
            "Epoch 9/35\n",
            "411/411 [==============================] - 2s 5ms/step - loss: 3097.9714 - accuracy: 0.8920\n",
            "Epoch 10/35\n",
            "411/411 [==============================] - 2s 4ms/step - loss: 1086.1296 - accuracy: 0.9139\n",
            "Epoch 11/35\n",
            "411/411 [==============================] - 2s 4ms/step - loss: 1947.6723 - accuracy: 0.9192\n",
            "Epoch 12/35\n",
            "411/411 [==============================] - 2s 4ms/step - loss: 585.5163 - accuracy: 0.9185\n",
            "Epoch 13/35\n",
            "411/411 [==============================] - 2s 4ms/step - loss: 2645.5725 - accuracy: 0.9025\n",
            "Epoch 14/35\n",
            "411/411 [==============================] - 2s 5ms/step - loss: 712.5980 - accuracy: 0.9215\n",
            "Epoch 15/35\n",
            "411/411 [==============================] - 2s 4ms/step - loss: 701.0512 - accuracy: 0.9163\n",
            "Epoch 16/35\n",
            "411/411 [==============================] - 2s 4ms/step - loss: 1634.0729 - accuracy: 0.8844\n",
            "Epoch 17/35\n",
            "411/411 [==============================] - 2s 5ms/step - loss: 2487.6871 - accuracy: 0.9176\n",
            "Epoch 18/35\n",
            "411/411 [==============================] - 2s 4ms/step - loss: 537.4134 - accuracy: 0.9146\n",
            "Epoch 19/35\n",
            "411/411 [==============================] - 2s 5ms/step - loss: 1856.6414 - accuracy: 0.8926\n",
            "Epoch 20/35\n",
            "411/411 [==============================] - 2s 4ms/step - loss: 818.0772 - accuracy: 0.9207\n",
            "Epoch 21/35\n",
            "411/411 [==============================] - 2s 4ms/step - loss: 419.5552 - accuracy: 0.9268\n",
            "Epoch 22/35\n",
            "411/411 [==============================] - 2s 4ms/step - loss: 1034.9349 - accuracy: 0.9149\n",
            "Epoch 23/35\n",
            "411/411 [==============================] - 2s 4ms/step - loss: 931.9663 - accuracy: 0.9211\n",
            "Epoch 24/35\n",
            "411/411 [==============================] - 2s 4ms/step - loss: 1143.9488 - accuracy: 0.9219\n",
            "Epoch 25/35\n",
            "411/411 [==============================] - 2s 4ms/step - loss: 447.4642 - accuracy: 0.9281\n",
            "Epoch 26/35\n",
            "411/411 [==============================] - 2s 4ms/step - loss: 463.5327 - accuracy: 0.9258\n",
            "Epoch 27/35\n",
            "411/411 [==============================] - 2s 5ms/step - loss: 889.0859 - accuracy: 0.9109\n",
            "Epoch 28/35\n",
            "411/411 [==============================] - 2s 4ms/step - loss: 229.4072 - accuracy: 0.9332\n",
            "Epoch 29/35\n",
            "411/411 [==============================] - 2s 4ms/step - loss: 699.1342 - accuracy: 0.9217\n",
            "Epoch 30/35\n",
            "411/411 [==============================] - 2s 4ms/step - loss: 427.4560 - accuracy: 0.9245\n",
            "Epoch 31/35\n",
            "411/411 [==============================] - 2s 4ms/step - loss: 334.3285 - accuracy: 0.9268\n",
            "Epoch 32/35\n",
            "411/411 [==============================] - 2s 4ms/step - loss: 1137.6006 - accuracy: 0.9174\n",
            "Epoch 33/35\n",
            "411/411 [==============================] - 2s 4ms/step - loss: 500.3930 - accuracy: 0.9282\n",
            "Epoch 34/35\n",
            "411/411 [==============================] - 2s 4ms/step - loss: 397.0042 - accuracy: 0.9295\n",
            "Epoch 35/35\n",
            "411/411 [==============================] - 2s 4ms/step - loss: 917.4161 - accuracy: 0.9316\n",
            "WARNING:tensorflow:Model was constructed with shape (None, 13140, 6) for input KerasTensor(type_spec=TensorSpec(shape=(None, 13140, 6), dtype=tf.float32, name='dense_3_input'), name='dense_3_input', description=\"created by layer 'dense_3_input'\"), but it was called on an input with incompatible shape (None, 6).\n",
            "103/103 [==============================] - 0s 3ms/step - loss: 180.9651 - accuracy: 0.9206\n",
            "[180.96514892578125, 0.9205721020698547]\n",
            "WARNING:tensorflow:Model was constructed with shape (None, 13140, 6) for input KerasTensor(type_spec=TensorSpec(shape=(None, 13140, 6), dtype=tf.float32, name='dense_3_input'), name='dense_3_input', description=\"created by layer 'dense_3_input'\"), but it was called on an input with incompatible shape (None, 6).\n",
            "Classification Report: \n",
            "               precision    recall  f1-score   support\n",
            "\n",
            "           0       0.94      0.89      0.92      1643\n",
            "           1       0.90      0.95      0.92      1643\n",
            "\n",
            "    accuracy                           0.92      3286\n",
            "   macro avg       0.92      0.92      0.92      3286\n",
            "weighted avg       0.92      0.92      0.92      3286\n",
            "\n"
          ],
          "name": "stdout"
        }
      ]
    },
    {
      "cell_type": "code",
      "metadata": {
        "id": "hkAzO2zuYU2c",
        "outputId": "a1514175-3182-4a96-d600-fae09aacf553"
      },
      "source": [
        "#printing the confusion matrix\n",
        "LABELS = ['Normal', 'Fraud']\n",
        "conf_matrix = confusion_matrix(y_test,y_preds)\n",
        "plt.figure(figsize=(12, 12))\n",
        "sns.heatmap(conf_matrix, xticklabels=LABELS, yticklabels=LABELS, annot=True, fmt=\"d\");\n",
        "plt.title(\"Confusion matrix\")\n",
        "plt.ylabel('True class')\n",
        "plt.xlabel('Predicted class')\n",
        "plt.show()"
      ],
      "execution_count": null,
      "outputs": [
        {
          "output_type": "display_data",
          "data": {
            "image/png": "[encoded data removed]",
            "text/plain": [
              "<Figure size 1200x1200 with 2 Axes>"
            ]
          },
          "metadata": {
            "tags": [],
            "needs_background": "light"
          }
        }
      ]
    },
    {
      "cell_type": "markdown",
      "metadata": {
        "id": "vqSHrS4KYU2c"
      },
      "source": [
        "<a name='3-5'></a>\n",
        "## Random Forest Classifier\n"
      ]
    },
    {
      "cell_type": "code",
      "metadata": {
        "id": "5-pYhbJqYU2c",
        "outputId": "a17054f0-edcc-4651-ddc3-d72e17d83b4a"
      },
      "source": [
        "# Building the Random Forest Classifier (RANDOM FOREST)\n",
        "from sklearn.ensemble import RandomForestClassifier\n",
        "# random forest model creation\n",
        "rfc = RandomForestClassifier()\n",
        "rfc.fit(X_train,y_train)\n",
        "# predictions\n",
        "y_pred = rfc.predict(X_test)\n",
        "print(\"Classification Report: \\n\", classification_report(y_test, y_pred))\n"
      ],
      "execution_count": null,
      "outputs": [
        {
          "output_type": "stream",
          "text": [
            "Classification Report: \n",
            "               precision    recall  f1-score   support\n",
            "\n",
            "           0       1.00      0.98      0.99      1643\n",
            "           1       0.98      1.00      0.99      1643\n",
            "\n",
            "    accuracy                           0.99      3286\n",
            "   macro avg       0.99      0.99      0.99      3286\n",
            "weighted avg       0.99      0.99      0.99      3286\n",
            "\n"
          ],
          "name": "stdout"
        }
      ]
    },
    {
      "cell_type": "code",
      "metadata": {
        "scrolled": false,
        "id": "-qrUwf3gYU2c",
        "outputId": "41d64160-b477-40f1-d0d8-ccffa960f5ad"
      },
      "source": [
        "#printing the confusion matrix\n",
        "LABELS = ['Normal', 'Fraud']\n",
        "conf_matrix = confusion_matrix(y_test, y_pred)\n",
        "plt.figure(figsize=(12, 12))\n",
        "sns.heatmap(conf_matrix, xticklabels=LABELS, yticklabels=LABELS, annot=True, fmt=\"d\");\n",
        "plt.title(\"Confusion matrix\")\n",
        "plt.ylabel('True class')\n",
        "plt.xlabel('Predicted class')\n",
        "plt.show()"
      ],
      "execution_count": null,
      "outputs": [
        {
          "output_type": "display_data",
          "data": {
            "image/png": "[encoded data removed]",
            "text/plain": [
              "<Figure size 1200x1200 with 2 Axes>"
            ]
          },
          "metadata": {
            "tags": [],
            "needs_background": "light"
          }
        }
      ]
    },
    {
      "cell_type": "markdown",
      "metadata": {
        "id": "RxyV7n4iYU2c"
      },
      "source": [
        "Thus we can see that Random Forest Classification provides us with the best results among our 3 models.\n"
      ]
    },
    {
      "cell_type": "markdown",
      "metadata": {
        "id": "gV1w7K-nYU2d"
      },
      "source": [
        "<a name='4'></a>\n",
        "## Output from the Analysis"
      ]
    },
    {
      "cell_type": "markdown",
      "metadata": {
        "id": "uqrAHrJiYU2d"
      },
      "source": [
        "### What are the key factors that predict fradulent customers?\n",
        "The feature importance graph shows us that the factors that affect our algorithm most intimately are \"oldbalanceOrg\"\t\"newbalanceOrig\"\t\"oldbalanceDest\"\t\"newbalanceDest\" . While amount shows some importance the \"isFlaggedFraud\" doesn't have any importance in predicting fradulent customers."
      ]
    },
    {
      "cell_type": "markdown",
      "metadata": {
        "id": "ohSQzE55YU2d"
      },
      "source": [
        "### Do these factors make sense?\n",
        "Yes, the \"oldbalanceOrg\"\t\"newbalanceOrig\"\t\"oldbalanceDest\"\t\"newbalanceDest\" play a huge impact in predicting a fradulent customer . A senario where a person who has a large amount of money deposited in his/her financial firm for a substantial amount of time and suddently they  either take out the full amount or tranfer it to some other anonymous account should raise an eyebrow among the members of the firm. \n",
        "While the amount transacted could have also shown a very large importance it's importance is still relevant for the cases similar as the above situation. Thus the factors do make sense.\n",
        "Additionally no importance of \"isFlaggedFraud\" shows that the company's model works when the funds are tranferred electronically but has zero impact on the other senarios(such as cash_out etc.) shows that the company's security can be easily passed through."
      ]
    },
    {
      "cell_type": "markdown",
      "metadata": {
        "id": "ooRTYmOxYU2d"
      },
      "source": [
        "### What kind of prevention can be taken ?\n",
        "The company should equip their customers with RFID and fingerprint scan or retina scan should be must for transcations exceeding the determined limit. The company's model for online transaction was able to alarm the employees for only 16 potential frauds out of the 8213 that had occured. A better classification of potential frauds is quickly required to make the model a better fit for the company's interest. The company's data scientist should evaluate its data over the past years of what is the most common mode of fraud that it has suffered additionally and try to make a company specific algorithm to get rid of fraudsters in real-time.\n"
      ]
    },
    {
      "cell_type": "markdown",
      "metadata": {
        "id": "4E-lYnb3YU2d"
      },
      "source": [
        "### How would one ensure the preventive actions work\n",
        "The data scientist of the company should  maintain the fingerprint and retina scans of the users ,they must be kept in secured encrypted server of the company so that hackers would find tough to decrypt them. Awareness must also be spread among the customers to not to fall prey to malicious people looking to get their hands on money. The company should provide stict guidelines to their employees that even a slight abnormality should be handled with utmost care to prevent any future frauds.\n",
        "The datascients and the security cheifs should also try to find out new methods to out do the hackers."
      ]
    }
  ]
}